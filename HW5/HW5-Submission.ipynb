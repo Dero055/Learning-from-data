{
 "cells": [
  {
   "cell_type": "markdown",
   "metadata": {},
   "source": [
    "# Bài tập 5\n",
    "\n",
    "Họ và tên - MSSV"
   ]
  },
  {
   "cell_type": "code",
   "execution_count": 1,
   "metadata": {},
   "outputs": [],
   "source": [
    "import math\n",
    "import numpy as np\n",
    "\n",
    "e=math.exp(1)"
   ]
  },
  {
   "cell_type": "markdown",
   "metadata": {},
   "source": [
    "## Câu 1 (1 điểm)"
   ]
  },
  {
   "cell_type": "markdown",
   "metadata": {},
   "source": [
    "Theo đề, ta có:\n",
    "\n",
    "$$\\mathbb{E}_{\\mathcal{D}}[E_{in}(\\mathbf{w}_{lin})] = \\sigma^2\\left(1 - \\frac{d+1}{N}\\right)$$\n",
    "\n",
    "Với $\\sigma=0.1$, $d=8$ để $$\\mathbb{E}_{\\mathcal{D}}[E_{in}(\\mathbf{w}_{lin})]>0.08$$\n",
    "$$\\Leftrightarrow N > \\frac{d+1}{1 - \\frac{0.008}{\\sigma^2}}\\approx 45$$\n",
    "$$\\Leftrightarrow N > 45$$"
   ]
  },
  {
   "cell_type": "markdown",
   "metadata": {
    "deletable": false,
    "nbgrader": {
     "cell_type": "markdown",
     "checksum": "2e83d862b3c5fd4fb57d72c50e8115f8",
     "grade": true,
     "grade_id": "c1",
     "locked": false,
     "points": 1,
     "schema_version": 3,
     "solution": true,
     "task": false
    }
   },
   "source": [
    "C"
   ]
  },
  {
   "cell_type": "markdown",
   "metadata": {},
   "source": [
    "## Câu 2 (1 điểm)"
   ]
  },
  {
   "cell_type": "markdown",
   "metadata": {},
   "source": [
    "Theo đề, ta có phép nonlinear transform ánh xạ từ không gian $\\mathcal{X}$ hai chiều (chưa tính $x_0=1$) sang không gian $\\mathcal{Z}$ hai chiều: $$\\Phi(1, x_1, x_2) = (1, x_1^2, x_2^2)$$\n",
    "\n",
    "Tập hypothesis của mô hình phân lớp tuyến tính (Perceptron) tương ứng với không gian $\\mathcal{Z}$ sẽ gồm các hypothesis có dạng: $$h(\\mathbf{x})=sign(\\tilde{w}_0 + \\tilde{w}_1 x_1^2 + \\tilde{w}_2 x_2^2)$$ \n",
    "\n",
    "Xét trường hợp: $x_1 \\to+\\infty$, khi đó $x_1^2$ sẽ vô cùng lớn, dấu của $h(\\mathbf{x})$ sẽ phụ thuộc vào $\\tilde{w}_1 x_1^2$. Tuy nhiên, $x_1^2 > 0$ $\\forall x_1$. Do đó, dấu của $h(\\mathbf{x})$ sẽ phụ thuộc vào dấu của $\\tilde{w}_1$. Theo hình vẽ trong đề, khi $x_1 \\to+\\infty$ thì $h(\\mathbf{x})=-1$. Do đó, $\\tilde{w}_1<0$\n",
    "\n",
    "Chứng minh tương tự, xét trường hợp: $x_2 \\to+\\infty$, khi đó $x_2^2$ sẽ vô cùng lớn, dấu của $h(\\mathbf{x})$ sẽ phụ thuộc vào $\\tilde{w}_2 x_2^2$. Tuy nhiên, $x_2^2 > 0$ $\\forall x_2$. Do đó, dấu của $h(\\mathbf{x})$ sẽ phụ thuộc vào dấu của $\\tilde{w}_2$. Theo hình vẽ trong đề, khi $x_2 \\to+\\infty$ thì $h(\\mathbf{x})=+1$. Do đó, $\\tilde{w}_2>0$"
   ]
  },
  {
   "cell_type": "markdown",
   "metadata": {
    "deletable": false,
    "nbgrader": {
     "cell_type": "markdown",
     "checksum": "47d4e2bb3e4812ef7b37e032a898cfec",
     "grade": true,
     "grade_id": "c2",
     "locked": false,
     "points": 1,
     "schema_version": 3,
     "solution": true,
     "task": false
    }
   },
   "source": [
    "D"
   ]
  },
  {
   "cell_type": "markdown",
   "metadata": {},
   "source": [
    "## Câu 3 (1 điểm)"
   ]
  },
  {
   "cell_type": "markdown",
   "metadata": {},
   "source": [
    "Theo công thức về $d_{VC}$ của mô hình phân lớp tuyến tính (Perceptron) trong không gian $\\mathcal{Z}$ ở slide của Thầy Yaser, lecture 9 - the linear model II, trang 4. Ta có: \n",
    "\n",
    "Đối với không gian $R^{14}$(chưa tính $x_0=1$) thì $d_\\mathbf{vc}=15$\n"
   ]
  },
  {
   "cell_type": "markdown",
   "metadata": {
    "deletable": false,
    "nbgrader": {
     "cell_type": "markdown",
     "checksum": "0997a909d9ab1f250c2bfd0645fee970",
     "grade": true,
     "grade_id": "c3",
     "locked": false,
     "points": 1,
     "schema_version": 3,
     "solution": true,
     "task": false
    }
   },
   "source": [
    "C"
   ]
  },
  {
   "cell_type": "markdown",
   "metadata": {},
   "source": [
    "## Câu 4 (1 điểm)"
   ]
  },
  {
   "cell_type": "markdown",
   "metadata": {},
   "source": [
    "Theo đề, ta có :\n",
    "$$\\frac{\\partial E}{\\partial u} = \\frac{\\partial\\left((ue^v − 2ve^{−u})^2\\right)}{\\partial u}$$\n",
    "$$\\Leftrightarrow \\frac{\\partial E}{\\partial u} = 2\\frac{\\partial\\left(ue^v − 2ve^{−u}\\right)}{\\partial u}\\left(ue^v − 2ve^{−u}\\right)$$\n",
    "$$\\Leftrightarrow \\frac{\\partial E}{\\partial u} =\\left(e^v + 2ve^{−u}\\right)\\left(ue^v − 2ve^{−u}\\right)$$"
   ]
  },
  {
   "cell_type": "markdown",
   "metadata": {
    "deletable": false,
    "nbgrader": {
     "cell_type": "markdown",
     "checksum": "efabab5c4035a6864ac8cb3e0061c6f0",
     "grade": true,
     "grade_id": "c4",
     "locked": false,
     "points": 1,
     "schema_version": 3,
     "solution": true,
     "task": false
    }
   },
   "source": [
    "E"
   ]
  },
  {
   "cell_type": "markdown",
   "metadata": {},
   "source": [
    "## Câu 5 (1 điểm)"
   ]
  },
  {
   "cell_type": "markdown",
   "metadata": {},
   "source": [
    "Ta có: $$\\frac{\\partial E}{\\partial u} =2\\left(e^v + 2ve^{−u}\\right)\\left(ue^v − 2ve^{−u}\\right)$$\n",
    "$$\\frac{\\partial E}{\\partial v} = 2\\left(ue^v - 2e^{−u}\\right)\\left(ue^v − 2ve^{−u}\\right)$$"
   ]
  },
  {
   "cell_type": "code",
   "execution_count": 2,
   "metadata": {},
   "outputs": [
    {
     "name": "stdout",
     "output_type": "stream",
     "text": [
      "Số lần lặp: 10\n"
     ]
    }
   ],
   "source": [
    "#Câu 5, 6\n",
    "import math\n",
    "import numpy as np\n",
    "\n",
    "e=math.exp(1)\n",
    "eta= 0.1\n",
    "delta=10**-14\n",
    "w=np.array([1,1])\n",
    "interation=-1\n",
    "for i in range(10**6):\n",
    "    u,v=w\n",
    "    u_partial=2*(e**v+2*v*e**-u)*(u*e**v-2*v*e**-u)\n",
    "    v_partial=2*(u*e**v-2*e**-u)*(u*e**v-2*v*e**-u)\n",
    "    w=w-eta*np.array([u_partial,v_partial])\n",
    "    u,v=w\n",
    "    if (u*e**v - 2*v*e**-u)**2<delta:\n",
    "        interation=i+1\n",
    "        break\n",
    "interation\n",
    "print(\"Số lần lặp: {}\".format(interation))\n"
   ]
  },
  {
   "cell_type": "markdown",
   "metadata": {
    "deletable": false,
    "nbgrader": {
     "cell_type": "markdown",
     "checksum": "0b484b8390bec96142e8a1213ee8cd2c",
     "grade": true,
     "grade_id": "c5",
     "locked": false,
     "points": 1,
     "schema_version": 3,
     "solution": true,
     "task": false
    }
   },
   "source": [
    "D"
   ]
  },
  {
   "cell_type": "markdown",
   "metadata": {},
   "source": [
    "## Câu 6 (1 điểm)"
   ]
  },
  {
   "cell_type": "code",
   "execution_count": 3,
   "metadata": {},
   "outputs": [
    {
     "name": "stdout",
     "output_type": "stream",
     "text": [
      "(u,v) = (0.04473629039778207,0.023958714099141746)\n"
     ]
    }
   ],
   "source": [
    "print(\"(u,v) = ({},{})\".format(u,v))\n"
   ]
  },
  {
   "cell_type": "markdown",
   "metadata": {
    "deletable": false,
    "nbgrader": {
     "cell_type": "markdown",
     "checksum": "26f542221236fb24d0ddbee584eed7d0",
     "grade": true,
     "grade_id": "c6",
     "locked": false,
     "points": 1,
     "schema_version": 3,
     "solution": true,
     "task": false
    }
   },
   "source": [
    "E"
   ]
  },
  {
   "cell_type": "markdown",
   "metadata": {},
   "source": [
    "## Câu 7 (1 điểm)"
   ]
  },
  {
   "cell_type": "code",
   "execution_count": 4,
   "metadata": {},
   "outputs": [
    {
     "name": "stdout",
     "output_type": "stream",
     "text": [
      "(u,v) = (6.29707589930517,-2.852306954077811)\n",
      "E(u,v)=0.13981379199615324\n"
     ]
    }
   ],
   "source": [
    "e=math.exp(1)\n",
    "eta= 0.1\n",
    "#delta=10**-14\n",
    "w=np.array([1,1])\n",
    "#interation=-1\n",
    "for i in range(15):\n",
    "    u,v=w\n",
    "    u_partial=2*(e**v+2*v*e**-u)*(u*e**v-2*v*e**-u)\n",
    "    w=w-eta*np.array([u_partial,0])\n",
    "    \n",
    "    u,v=w\n",
    "    v_partial=2*(u*e**v-2*e**-u)*(u*e**v-2*v*e**-u)\n",
    "    w=w-eta*np.array([0,v_partial])\n",
    "\n",
    "u=w[0];v=w[1];\n",
    "Error=(u*e**v-2*v*e**-u)**2\n",
    "print(\"(u,v) = ({},{})\".format(u,v))\n",
    "print(\"E(u,v)={}\".format(Error))\n"
   ]
  },
  {
   "cell_type": "markdown",
   "metadata": {
    "deletable": false,
    "nbgrader": {
     "cell_type": "markdown",
     "checksum": "322a244b0fae3a20ec568a5099aaaec1",
     "grade": true,
     "grade_id": "c7",
     "locked": false,
     "points": 1,
     "schema_version": 3,
     "solution": true,
     "task": false
    }
   },
   "source": [
    "A"
   ]
  },
  {
   "cell_type": "markdown",
   "metadata": {},
   "source": [
    "## Câu 8 (1 điểm)"
   ]
  },
  {
   "cell_type": "code",
   "execution_count": 5,
   "metadata": {},
   "outputs": [],
   "source": [
    "def generate_target_w():\n",
    "    \n",
    "    # Generate two points from a uniform distribution over [-1, 1]x[-1, 1]\n",
    "    p1 = np.random.uniform(-1, 1, 2)\n",
    "    p2 = np.random.uniform(-1, 1, 2)\n",
    "\n",
    "    # Compute the target W from these two points\n",
    "    target_w = np.array([p1[1]*p2[0] - p1[0]*p2[1], p2[1] - p1[1], p1[0] - p2[0]]).reshape((-1, 1))\n",
    "    \n",
    "    return target_w\n",
    "def generate_data(N, target_w):\n",
    "    bad_data = True # `bad_data = True` means: data contain points on the target line \n",
    "                    # (this rarely happens, but just to be careful)\n",
    "                    # -> y's of these points = 0 (with np.sign); \n",
    "                    #    we don't want this (y's of data must be -1 or 1)\n",
    "                    # -> re-generate data until `bad_data = False`\n",
    "    \n",
    "    while bad_data == True:\n",
    "        X = np.random.uniform(-1, 1, (N, 2))\n",
    "        X = np.hstack((np.ones((N, 1)), X)) # Add 'ones' column\n",
    "        Y = np.sign(np.dot(X, target_w))\n",
    "        if (0 not in Y): # Good data\n",
    "            bad_data = False\n",
    "    \n",
    "    return X, Y"
   ]
  },
  {
   "cell_type": "code",
   "execution_count": 6,
   "metadata": {},
   "outputs": [],
   "source": [
    "e=math.exp(1)\n",
    "def logistic(s):\n",
    "    return 1/(1+e**-s)"
   ]
  },
  {
   "cell_type": "code",
   "execution_count": 7,
   "metadata": {},
   "outputs": [],
   "source": [
    "import copy as cp\n",
    "e=math.exp(1)\n",
    "eta=0.01\n",
    "N=100\n",
    "interation_tol=0\n",
    "Error_tol=0\n",
    "# 100 runs\n",
    "for k in range(100):\n",
    "    interation=0\n",
    "    w=np.zeros((3,1))\n",
    "    w0=generate_target_w()\n",
    "    X,Y=generate_data(N, w0)\n",
    "    n_epochs=0\n",
    "    # 1 run\n",
    "    for i in range(10**6):\n",
    "        previous_w=cp.copy(w)\n",
    "        rand_idxs=np.random.permutation(N)\n",
    "        #1 epoch\n",
    "        for idx in rand_idxs:\n",
    "            x_idx=X[[idx],:]\n",
    "            y_idx=Y[[idx],:]\n",
    "            gradient=-y_idx*x_idx*logistic(-y_idx*np.dot(x_idx,w))\n",
    "            w=w-eta*gradient.T\n",
    "        #n_epochs+=1\n",
    "        #X_test,Y_test=generate_data(N, w0)\n",
    "        interation+=1\n",
    "        if np.linalg.norm(w- previous_w)<0.01:\n",
    "            break\n",
    "    #Tổng số lần duyệt qua 1 epoch trong 100 runs\n",
    "    interation_tol+=interation\n",
    "    X_test,Y_test=generate_data(N, w0)\n",
    "    #Tổng độ lỗi trên 100 runs\n",
    "    Error=0\n",
    "    for j in range(N):\n",
    "        Error+=(1/N)*math.log(1 + e**(-Y_test[j] * np.dot(X_test[j,:], w)))\n",
    "    Error_tol+=Error"
   ]
  },
  {
   "cell_type": "code",
   "execution_count": 8,
   "metadata": {},
   "outputs": [
    {
     "name": "stdout",
     "output_type": "stream",
     "text": [
      "0.10148299830044422\n"
     ]
    }
   ],
   "source": [
    "print(Error_tol/100)"
   ]
  },
  {
   "cell_type": "markdown",
   "metadata": {
    "deletable": false,
    "nbgrader": {
     "cell_type": "markdown",
     "checksum": "d81773f072cd15e4a27b6cd240a5d990",
     "grade": true,
     "grade_id": "c8",
     "locked": false,
     "points": 1,
     "schema_version": 3,
     "solution": true,
     "task": false
    }
   },
   "source": [
    "D"
   ]
  },
  {
   "cell_type": "markdown",
   "metadata": {},
   "source": [
    "## Câu 9 (1 điểm)"
   ]
  },
  {
   "cell_type": "code",
   "execution_count": 9,
   "metadata": {},
   "outputs": [
    {
     "name": "stdout",
     "output_type": "stream",
     "text": [
      "343.65\n"
     ]
    }
   ],
   "source": [
    "print(interation_tol/100)"
   ]
  },
  {
   "cell_type": "markdown",
   "metadata": {
    "deletable": false,
    "nbgrader": {
     "cell_type": "markdown",
     "checksum": "e814a2db0b8a53e4fddfee4bcbf405fc",
     "grade": true,
     "grade_id": "c9",
     "locked": false,
     "points": 1,
     "schema_version": 3,
     "solution": true,
     "task": false
    }
   },
   "source": [
    "A"
   ]
  },
  {
   "cell_type": "markdown",
   "metadata": {},
   "source": [
    "## Câu 10 (1 điểm)"
   ]
  },
  {
   "cell_type": "markdown",
   "metadata": {},
   "source": [
    "- PLA: \n",
    "    - Với mẫu $\\left(\\mathbf{x}^{(n)}, y^{(n)}\\right)$ được phân lớp đúng thì $\\mathbf{w}$ không thay đổi.\n",
    "    - Với mẫu $\\left(\\mathbf{x}^{(n)}, y^{(n)}\\right)$ bị phân lớp sai thì cập nhật: $\\mathbf{w} \\leftarrow \\mathbf{w} + y^{(n)}\\mathbf{x}^{(n)}$.\n",
    "- Xét thuật toán SGD (với kích thước minibatch B = 1), tại mỗi mẫu $\\left(\\mathbf{x}^{(n)}, y^{(n)}\\right)$: $\\mathbf{w} \\leftarrow \\mathbf{w} - \\alpha \\times \\mathbf{\\nabla e}$.\n",
    "\n",
    "  Xét $\\alpha =1$: $\\mathbf{w} \\leftarrow \\mathbf{w} - \\mathbf{\\nabla e}$.(*)\n",
    "\n",
    "Cần tìm một $e_n(w)$ sao cho sau quá trình biến đổi (*) ta có được hàm cập nhật của PLA:\n",
    "\n",
    "**[a]** Giả sử $e_n(w)= e^{−y^{(n)}\\mathbf w^T\\mathbf {x}^{(n)}}$\n",
    "\n",
    "$\\nabla e = −y^{(n)}x^{(n)}\\times e^{−y^{(n)}\\mathbf w^T\\mathbf{x}^{(n)}}$\n",
    "\n",
    "Thay vào (*) \n",
    "\n",
    "$\\mathbf{w} \\leftarrow \\mathbf{w} - \\left(−y^{(n)}x_n\\times e^{−y^{(n)}\\mathbf w^T\\mathbf {x}^{(n)}}\\right)$\n",
    "\n",
    "$\\Leftrightarrow\\mathbf{w} \\leftarrow \\mathbf{w} + \\left(y^{(n)}x_n\\times e^{y^{(n)}\\mathbf w^T\\mathbf {x}^{(n)}}\\right)$\n",
    "\n",
    "Ta thấy kết quả này không phải là hàm cập nhật w của PLA.\n",
    "\n",
    "**[b]**\n",
    "Giả sử $e_n(w)= −y^{(n)}\\mathbf w^T\\mathbf {x}^{(n)}$\n",
    "\n",
    "$\\nabla e = −y^{(n)}x^{(n)}$\n",
    "\n",
    "Thay vào (*) \n",
    "\n",
    "$\\mathbf{w} \\leftarrow \\mathbf{w} -  \\left(−y^{(n)}{x}^{(n)}\\right)$\n",
    "\n",
    "$\\Leftrightarrow\\mathbf{w} \\leftarrow \\mathbf{w} +  y^{(n)}{x}^{(n)}$\n",
    "\n",
    "Tuy nhiên $e_n(w)$ này lại cập nhật $\\mathbf{w}$ với mọi mẫu $\\left(\\mathbf{x}^{(n)}, y^{(n)}\\right)$. Điều này là không đúng so với Learning algorithm của PLA.\n",
    "\n",
    "**[c]**\n",
    "Giả sử $e_n(w)= \\left( y^{(n)}−\\mathbf w^T\\mathbf {x}^{(n)} \\right)^2$\n",
    "\n",
    "$\\nabla e = -2\\mathbf {x}^{(n)}\\left( y^{(n)}−\\mathbf w^T\\mathbf {x}^{(n)} \\right)$\n",
    "\n",
    "Thay vào (*) \n",
    "\n",
    "$\\mathbf{w} \\leftarrow \\mathbf{w} -  \\left(-2\\mathbf {x}^{(n)}\\left( y^{(n)}−\\mathbf w^T\\mathbf {x}^{(n)} \\right)\\right)$\n",
    "\n",
    "$\\Leftrightarrow\\mathbf{w} \\leftarrow \\mathbf{w} +2\\mathbf {x}^{(n)}\\left( y^{(n)}−\\mathbf w^T\\mathbf {x}^{(n)} \\right)$\n",
    "\n",
    "Ta thấy kết quả này không phải là hàm cập nhật w của PLA.\n",
    "\n",
    "**[d]**\n",
    "Giả sử $e_n(w)= ln\\left( 1+e^{−y^{(n)}\\mathbf w^T\\mathbf {x}^{(n)}} \\right)$\n",
    "\n",
    "$\\nabla e = \\frac{−y^{(n)}x^{(n)}\\times e^{−y^{(n)}\\mathbf w^T\\mathbf{x}^{(n)}}}{1+e^{−y^{(n)}\\mathbf w^T\\mathbf {x}^{(n)}}}$\n",
    "\n",
    "Thay vào (*) \n",
    "\n",
    "\n",
    "$\\mathbf{w} \\leftarrow \\mathbf{w} -  \\left(\\frac{−y^{(n)}x^{(n)}\\times e^{−y^{(n)}\\mathbf w^T\\mathbf{x}^{(n)}}}{1+e^{−y^{(n)}\\mathbf w^T\\mathbf {x}^{(n)}}}\\right)$\n",
    "\n",
    "$\\mathbf{w} \\leftarrow \\mathbf{w} +  \\frac{y^{(n)}x^{(n)}\\times e^{−y^{(n)}\\mathbf w^T\\mathbf{x}^{(n)}}}{1+e^{−y^{(n)}\\mathbf w^T\\mathbf {x}^{(n)}}}$\n",
    "\n",
    "Ta thấy kết quả này không phải là hàm cập nhật w của PLA.\n",
    "\n",
    "**[e]** Giả sử  $e_n(w) = − min\\left(0, y_n\\mathbf w^T\\mathbf x_n\\right)$\n",
    "\n",
    "- Đối với những mẫu được phân lớp đúng: $y^{(n)} = sign\\left(w^T\\mathbf {x}^{(n)}\\right) \\Rightarrow y^{(n)}w^T\\mathbf {x}^{(n)}  > 0 \\Rightarrow \\nabla e =0$\n",
    "\n",
    "- Đối với những mẫu bị phân lớp sai: $y^{(n)} \\ne sign\\left(w^T\\mathbf {x}^{(n)}\\right) \\Rightarrow y^{(n)}w^T\\mathbf {x}^{(n)}  < 0 \\Rightarrow \\nabla e =-y^{(n)}\\mathbf {x}^{(n)}$\n",
    "\n",
    "Thay vào (*) \n",
    "\n",
    "- Với mẫu $\\left(\\mathbf{x}^{(n)}, y^{(n)}\\right)$ được phân lớp đúng: $\\mathbf{w}$ không thay đổi.\n",
    "- Với mẫu $\\left(\\mathbf{x}^{(n)}, y^{(n)}\\right)$ bị phân lớp sai: $\\mathbf{w} \\leftarrow \\mathbf{w} + y^{(n)}\\mathbf{x}^{(n)}$.\n",
    "\n",
    "Ta thấy kết quả này hoàn toàn chính xác so với thuật toán PCA."
   ]
  },
  {
   "cell_type": "markdown",
   "metadata": {
    "deletable": false,
    "nbgrader": {
     "cell_type": "markdown",
     "checksum": "41cbf5c6d2b94eeae0a712be2181fef6",
     "grade": true,
     "grade_id": "c10",
     "locked": false,
     "points": 1,
     "schema_version": 3,
     "solution": true,
     "task": false
    }
   },
   "source": [
    "E"
   ]
  }
 ],
 "metadata": {
  "kernelspec": {
   "display_name": "Python 3",
   "language": "python",
   "name": "python3"
  },
  "language_info": {
   "codemirror_mode": {
    "name": "ipython",
    "version": 3
   },
   "file_extension": ".py",
   "mimetype": "text/x-python",
   "name": "python",
   "nbconvert_exporter": "python",
   "pygments_lexer": "ipython3",
   "version": "3.7.7"
  },
  "toc": {
   "base_numbering": 1,
   "nav_menu": {},
   "number_sections": true,
   "sideBar": true,
   "skip_h1_title": false,
   "title_cell": "Table of Contents",
   "title_sidebar": "Contents",
   "toc_cell": false,
   "toc_position": {},
   "toc_section_display": true,
   "toc_window_display": false
  },
  "varInspector": {
   "cols": {
    "lenName": 16,
    "lenType": 16,
    "lenVar": 40
   },
   "kernels_config": {
    "python": {
     "delete_cmd_postfix": "",
     "delete_cmd_prefix": "del ",
     "library": "var_list.py",
     "varRefreshCmd": "print(var_dic_list())"
    },
    "r": {
     "delete_cmd_postfix": ") ",
     "delete_cmd_prefix": "rm(",
     "library": "var_list.r",
     "varRefreshCmd": "cat(var_dic_list()) "
    }
   },
   "types_to_exclude": [
    "module",
    "function",
    "builtin_function_or_method",
    "instance",
    "_Feature"
   ],
   "window_display": false
  }
 },
 "nbformat": 4,
 "nbformat_minor": 4
}
