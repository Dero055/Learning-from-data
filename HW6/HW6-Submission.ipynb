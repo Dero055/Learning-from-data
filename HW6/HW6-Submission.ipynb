{
 "cells": [
  {
   "cell_type": "markdown",
   "metadata": {},
   "source": [
    "# Bài tập 6\n",
    "\n",
    "Nguyễn Đỗ Chí Thảo - 1712159\n"
   ]
  },
  {
   "cell_type": "markdown",
   "metadata": {},
   "source": [
    "## Câu 1 (1 điểm)"
   ]
  },
  {
   "cell_type": "markdown",
   "metadata": {},
   "source": [
    "Định nghĩa của deterministic noise (slide của Thầy Yaser, lecture 11 - overfitting, trang 16): \"The part of $f$ that $\\mathcal H$ cannot capture: $f(\\mathbf{x}) − h^∗(\\mathbf{x})$\". Trong đó, $h^*(\\mathbf{x})$ là hàm tốt nhất của $\\mathcal H$ dùng để xấp xỉ $f$.\n",
    "\n",
    "Giả sử ta có f là đa thức bậc 50, $H_{50}$ là tập hypothesis ứng với đa thức bậc 50, $H_{10}$ là tập hypothesis ứng với đa thức bậc 10.\n",
    "\n",
    "Rõ ràng, trong $H_{50}$ ta có thể tìm ra $h^*(\\mathbf{x})$ có thể \"fit\" vào tất các điểm dữ liệu (không xét đến stochastic noise). Tuy nhiên, trong $H_{10}$ chúng ta không thể tìm ra $h^*(\\mathbf{x})$ có thể \"fit\" vào tất cả các điểm dữ liệu (không xét đến stochastic noise) bởi vẫn còn phần mà $\\mathcal H_{10}$ không thể \"capture\". Do đó, số lượng deterministic noise sẽ tăng lên.\n"
   ]
  },
  {
   "cell_type": "markdown",
   "metadata": {
    "deletable": false,
    "nbgrader": {
     "cell_type": "markdown",
     "checksum": "2e83d862b3c5fd4fb57d72c50e8115f8",
     "grade": true,
     "grade_id": "c1",
     "locked": false,
     "points": 1,
     "schema_version": 3,
     "solution": true,
     "task": false
    }
   },
   "source": [
    "B"
   ]
  },
  {
   "cell_type": "markdown",
   "metadata": {},
   "source": [
    "## Câu 2 (1 điểm)"
   ]
  },
  {
   "cell_type": "code",
   "execution_count": 2,
   "metadata": {},
   "outputs": [],
   "source": [
    "import numpy as np\n",
    "train_data = np.loadtxt(\"in.dta\")\n",
    "train_X=train_data[:,0:2]\n",
    "train_Y=train_data[:,[2]]"
   ]
  },
  {
   "cell_type": "code",
   "execution_count": 3,
   "metadata": {},
   "outputs": [],
   "source": [
    "def LinearRegression(X, ys):\n",
    "    iteration = 0\n",
    "    X_dagger = np.dot(np.linalg.inv(np.dot(X.T, X)), X.T)\n",
    "    w = np.dot(X_dagger, ys)\n",
    "    return w"
   ]
  },
  {
   "cell_type": "code",
   "execution_count": 4,
   "metadata": {},
   "outputs": [
    {
     "name": "stdout",
     "output_type": "stream",
     "text": [
      "E_in=0.02857142857142857\n"
     ]
    }
   ],
   "source": [
    "x1=train_X[:,0]\n",
    "x2=train_X[:,1]\n",
    "N=len(train_data)\n",
    "z_train = np.array([[1,x1[i],x2[i],x1[i]**2,x2[i]**2,x1[i]*x2[i],abs(x1[i]-x2[i]),abs(x1[i]+x2[i])] for i in range(N)])\n",
    "w=LinearRegression(z_train, train_Y)\n",
    "\n",
    "predictions_training = np.sign(np.dot(z_train, w))\n",
    "E_in=np.mean(train_Y != predictions_training)\n",
    "print('E_in={}'.format(E_in))"
   ]
  },
  {
   "cell_type": "code",
   "execution_count": 5,
   "metadata": {
    "scrolled": true
   },
   "outputs": [
    {
     "name": "stdout",
     "output_type": "stream",
     "text": [
      "E_out=0.084\n"
     ]
    }
   ],
   "source": [
    "test_data = np.loadtxt(\"out.dta\")\n",
    "test_X=test_data[:,0:2]\n",
    "test_Y=test_data[:,[2]]\n",
    "x1=test_X[:,0]\n",
    "x2=test_X[:,1]\n",
    "N=len(test_data)\n",
    "z_test = np.array([[1,x1[i],x2[i],x1[i]**2,x2[i]**2,x1[i]*x2[i],abs(x1[i]-x2[i]),abs(x1[i]+x2[i])] for i in range(N)])\n",
    "\n",
    "predictions_testing = np.sign(np.dot(z_test, w))\n",
    "E_out=np.mean(test_Y != predictions_testing)\n",
    "print('E_out={}'.format(E_out))\n"
   ]
  },
  {
   "cell_type": "markdown",
   "metadata": {
    "deletable": false,
    "nbgrader": {
     "cell_type": "markdown",
     "checksum": "47d4e2bb3e4812ef7b37e032a898cfec",
     "grade": true,
     "grade_id": "c2",
     "locked": false,
     "points": 1,
     "schema_version": 3,
     "solution": true,
     "task": false
    }
   },
   "source": [
    "A"
   ]
  },
  {
   "cell_type": "markdown",
   "metadata": {},
   "source": [
    "## Câu 3 (1 điểm)"
   ]
  },
  {
   "cell_type": "code",
   "execution_count": 6,
   "metadata": {},
   "outputs": [
    {
     "name": "stdout",
     "output_type": "stream",
     "text": [
      "E_in=0.02857142857142857, E_out=0.08\n",
      "Kết quả gần đúng nhất:  [0.03 0.08]\n"
     ]
    }
   ],
   "source": [
    "lamda=10**-3\n",
    "N=z_train.shape[1]\n",
    "w = np.dot(np.dot(np.linalg.inv(np.dot(z_train.T, z_train) + lamda* np.eye(N)), z_train.T),train_Y)\n",
    "\n",
    "E_in=np.mean(train_Y != np.sign(np.dot(z_train, w)))\n",
    "\n",
    "E_out=np.mean(test_Y != np.sign(np.dot(z_test, w)))\n",
    "\n",
    "Error=np.array([E_in,E_out])\n",
    "\n",
    "answer=np.array([[0.01,0.02,0.02,0.03,0.03],[0.02,0.04,0.06,0.08,0.1]]).T\n",
    "dist=10\n",
    "choose=-1\n",
    "for i in answer:\n",
    "    if np.linalg.norm(i-Error)<dist:\n",
    "        dist=np.linalg.norm(i-Error)\n",
    "        choose=i\n",
    "print('E_in={}, E_out={}'.format(E_in,E_out))\n",
    "print(\"Kết quả gần đúng nhất: \",choose)"
   ]
  },
  {
   "cell_type": "markdown",
   "metadata": {
    "deletable": false,
    "nbgrader": {
     "cell_type": "markdown",
     "checksum": "0997a909d9ab1f250c2bfd0645fee970",
     "grade": true,
     "grade_id": "c3",
     "locked": false,
     "points": 1,
     "schema_version": 3,
     "solution": true,
     "task": false
    }
   },
   "source": [
    "D"
   ]
  },
  {
   "cell_type": "markdown",
   "metadata": {},
   "source": [
    "## Câu 4 (1 điểm)"
   ]
  },
  {
   "cell_type": "code",
   "execution_count": 7,
   "metadata": {},
   "outputs": [
    {
     "name": "stdout",
     "output_type": "stream",
     "text": [
      "E_in=0.37142857142857144, E_out=0.436\n",
      "Kết quả gần đúng nhất:  [0.4 0.4]\n"
     ]
    }
   ],
   "source": [
    "lamda=10**3\n",
    "N=z_train.shape[1]\n",
    "w = np.dot(np.dot(np.linalg.inv(np.dot(z_train.T, z_train) + lamda* np.eye(N)), z_train.T),train_Y)\n",
    "\n",
    "E_in=np.mean(train_Y != np.sign(np.dot(z_train, w)))\n",
    "\n",
    "E_out=np.mean(test_Y != np.sign(np.dot(z_test, w)))\n",
    "\n",
    "Error=np.array([E_in,E_out])\n",
    "\n",
    "answer=np.array([[0.2,0.2,0.3,0.3,0.4],[0.2,0.3,0.3,0.4,0.4]]).T\n",
    "dist=10\n",
    "choose=-1\n",
    "for i in answer:\n",
    "    if np.linalg.norm(i-Error)<dist:\n",
    "        dist=np.linalg.norm(i-Error)\n",
    "        choose=i\n",
    "print('E_in={}, E_out={}'.format(E_in,E_out))\n",
    "print(\"Kết quả gần đúng nhất: \",choose)"
   ]
  },
  {
   "cell_type": "markdown",
   "metadata": {
    "deletable": false,
    "nbgrader": {
     "cell_type": "markdown",
     "checksum": "efabab5c4035a6864ac8cb3e0061c6f0",
     "grade": true,
     "grade_id": "c4",
     "locked": false,
     "points": 1,
     "schema_version": 3,
     "solution": true,
     "task": false
    }
   },
   "source": [
    "E"
   ]
  },
  {
   "cell_type": "markdown",
   "metadata": {},
   "source": [
    "## Câu 5 (1 điểm)"
   ]
  },
  {
   "cell_type": "code",
   "execution_count": 8,
   "metadata": {},
   "outputs": [
    {
     "name": "stdout",
     "output_type": "stream",
     "text": [
      "k = -1, E_out = 0.056\n"
     ]
    }
   ],
   "source": [
    "k=[2,1,0,-1,-2]\n",
    "N=z_train.shape[1]\n",
    "minimum=10\n",
    "for i in k:\n",
    "    lamda=10**i\n",
    "    w = np.dot(np.dot(np.linalg.inv(np.dot(z_train.T, z_train) + lamda* np.eye(N)), z_train.T),train_Y)\n",
    "    E_out=np.mean(test_Y != np.sign(np.dot(z_test, w)))\n",
    "    if E_out<minimum:\n",
    "        minimum=E_out\n",
    "        choose=i\n",
    "print(\"k = {}, E_out = {}\".format(choose,minimum))\n"
   ]
  },
  {
   "cell_type": "markdown",
   "metadata": {
    "deletable": false,
    "nbgrader": {
     "cell_type": "markdown",
     "checksum": "0b484b8390bec96142e8a1213ee8cd2c",
     "grade": true,
     "grade_id": "c5",
     "locked": false,
     "points": 1,
     "schema_version": 3,
     "solution": true,
     "task": false
    }
   },
   "source": [
    "D"
   ]
  },
  {
   "cell_type": "markdown",
   "metadata": {},
   "source": [
    "## Câu 6 (1 điểm)"
   ]
  },
  {
   "cell_type": "code",
   "execution_count": 9,
   "metadata": {},
   "outputs": [
    {
     "name": "stdout",
     "output_type": "stream",
     "text": [
      "E_out_min=0.092 tại lamda=1\n"
     ]
    },
    {
     "data": {
      "image/png": "[encoded data removed]",
      "text/plain": [
       "<Figure size 432x288 with 1 Axes>"
      ]
     },
     "metadata": {
      "needs_background": "light"
     },
     "output_type": "display_data"
    }
   ],
   "source": [
    "import matplotlib.pyplot as plt  \n",
    "\n",
    "min_E_out = 100\n",
    "\n",
    "lamda_l = np.arange(1, 10000, 10)\n",
    "E_out_l = []\n",
    "\n",
    "for lamda in lamda_l:\n",
    "    w_reg = np.dot(np.dot(np.linalg.inv(np.dot(z_train.T, z_train) + lamda* np.eye(N)), z_train.T),train_Y)\n",
    "    E_out = np.mean(test_Y != np.sign(np.dot(z_test, w_reg)))\n",
    "    E_out_l.append(E_out)\n",
    "    if E_out < min_E_out:\n",
    "        min_E_out = E_out\n",
    "        best_lamda = lamda\n",
    "print(\"E_out_min={} tại lamda={}\".format(min_E_out,best_lamda))\n",
    "fig1 = plt.figure()\n",
    "plt.plot(lamda_l, E_out_l)\n",
    "plt.ylabel('$E_{out}$')\n",
    "plt.xlabel('$\\lambda$')\n",
    "plt.show()"
   ]
  },
  {
   "cell_type": "code",
   "execution_count": 10,
   "metadata": {},
   "outputs": [
    {
     "name": "stdout",
     "output_type": "stream",
     "text": [
      "E_out_min=0.056 tại lamda=0.0935\n"
     ]
    },
    {
     "data": {
      "image/png": "[encoded data removed]",
      "text/plain": [
       "<Figure size 432x288 with 1 Axes>"
      ]
     },
     "metadata": {
      "needs_background": "light"
     },
     "output_type": "display_data"
    }
   ],
   "source": [
    "import matplotlib.pyplot as plt  \n",
    "\n",
    "min_E_out = 100\n",
    "\n",
    "lamda_l = np.arange(0, 1, 0.0001)\n",
    "E_out_l = []\n",
    "\n",
    "for lamda in lamda_l:\n",
    "    w_reg = np.dot(np.dot(np.linalg.inv(np.dot(z_train.T, z_train) + lamda* np.eye(N)), z_train.T),train_Y)\n",
    "    E_out = np.mean(test_Y != np.sign(np.dot(z_test, w_reg)))\n",
    "    E_out_l.append(E_out)\n",
    "    if E_out < min_E_out:\n",
    "        min_E_out = E_out\n",
    "        best_lamda = lamda\n",
    "print(\"E_out_min={} tại lamda={}\".format(min_E_out,best_lamda))\n",
    "fig1 = plt.figure()\n",
    "plt.plot(lamda_l, E_out_l)\n",
    "plt.ylabel('$E_{out}$')\n",
    "plt.xlabel('$\\lambda$')\n",
    "plt.show()"
   ]
  },
  {
   "cell_type": "markdown",
   "metadata": {},
   "source": [
    "Xét hai miền giá trị của k: $k\\ge0$ và $k<0$\n",
    "\n",
    "Ta thấy rằng trong miền $k\\ge0$, ta thấy rằng $E_{out}$ và $\\lambda$ đồng biến. Do đó, trong miền $k\\ge0$ $E_{out}$ đạt giá trị nhỏ nhất tại $\\lambda = 1$ (hay $k=0$): $E_{out_{min}}=0.092$\n",
    "\n",
    "Ta thấy rằng trong miền $k<0$, trong miền $\\lambda \\in [0,1)$, $E_{out}$ đạt giá trị bé nhất tại $\\lambda = 0.1$ (hay $k=-1$): $E_{out_{min}}=0.056$\n",
    "\n",
    "Do đó, giá trị nhỏ nhất của $E_{out}$: $E_{out_{min}}=0.056$"
   ]
  },
  {
   "cell_type": "markdown",
   "metadata": {
    "deletable": false,
    "nbgrader": {
     "cell_type": "markdown",
     "checksum": "26f542221236fb24d0ddbee584eed7d0",
     "grade": true,
     "grade_id": "c6",
     "locked": false,
     "points": 1,
     "schema_version": 3,
     "solution": true,
     "task": false
    }
   },
   "source": [
    "B"
   ]
  },
  {
   "cell_type": "markdown",
   "metadata": {},
   "source": [
    "## Câu 7 (1 điểm)"
   ]
  },
  {
   "cell_type": "markdown",
   "metadata": {},
   "source": [
    "Ta có:\n",
    "\n",
    "$H(10,0,3)=\\sum\\limits_{q=0}^{2}w_{q}L_{q}(x) \\Rightarrow H(10,0,3) \\in H_2$\n",
    "\n",
    "$H(10,0,4)=\\sum\\limits_{q=0}^{3}w_{q}L_{q}(x) \\Rightarrow H(10,0,4)\\in H_3$\n",
    "\n",
    "$\\Rightarrow H(10,0,3)\\cup H(10,0,4)= H_{3}$\n",
    "\n",
    "$\\Rightarrow H(10,0,3)\\cap H(10,0,4)= H_{2}$\n",
    "\n",
    "\n",
    "Ta có:\n",
    "\n",
    "$H(10,1,3)=\\sum\\limits_{q=0}^{2}( w_{q}L_{q}(x)) + \\sum\\limits_{q=3}^{10} L_{q}(x)\\Rightarrow H(10,1,3) \\in H_{10}$\n",
    "\n",
    "$H(10,1,4)=\\sum\\limits_{q=0}^{3}( w_{q}L_{q}(x)) + \\sum\\limits_{q=4}^{10} L_{q}(x)\\Rightarrow H(10,1,4) \\in H_{10}$\n",
    "\n",
    "$\\Rightarrow H(10,1,3)\\cap H(10,1,4)= H_{10}$\n",
    "\n",
    "$\\Rightarrow H(10,1,3)\\cup H(10,1,4)= H_{10}$\n",
    "\n",
    "Trong 5 đáp án, đáp án C đúng."
   ]
  },
  {
   "cell_type": "markdown",
   "metadata": {
    "deletable": false,
    "nbgrader": {
     "cell_type": "markdown",
     "checksum": "322a244b0fae3a20ec568a5099aaaec1",
     "grade": true,
     "grade_id": "c7",
     "locked": false,
     "points": 1,
     "schema_version": 3,
     "solution": true,
     "task": false
    }
   },
   "source": [
    "C"
   ]
  },
  {
   "cell_type": "markdown",
   "metadata": {},
   "source": [
    "## Câu 8 (1 điểm)"
   ]
  },
  {
   "cell_type": "markdown",
   "metadata": {},
   "source": [
    "![img](https://i.ibb.co/71zMcXP/nn.png)\n",
    "\n",
    "**Xét quá trình lan truyền tiến (forward propagation):**\n",
    "\n",
    "Từ tầng input đến tầng ẩn thứ 1: có 6 neural ở tầng input và 3 neural ở tầng ẩn thứ 1 (không tính neural \"+1\")\n",
    "\n",
    "Do đó số lượng phép tính: $w^{(1)}_{ij}x^{(0)}_i$ bằng 6*3=18\n",
    "\n",
    "Từ tầng tầng ẩn thứ 1 đến tầng ouput: có 4 neural ở tầng ẩn thứ 1 và 1 nerual ở tầng ouput:\n",
    "\n",
    "Do đó số lượng phép tính: $w^{(2)}_{ij}x^{(1)}_i$ bằng 4*1=4\n",
    "\n",
    "Số lượng phép tính $w^{(l)}_{ij}a^{(l-1)}_i$ là: 18 + 4 = 22\n",
    "\n",
    "**Xét quá trình lan truyền ngược (back propagation):**\n",
    "\n",
    "Từ $\\delta^{L}_{j}$ ở tầng cuối, thực hiện lan truyền ngược để tính $\\delta$ của các nơ-ron ở các tầng trước đó. \n",
    "Phép tính $w^{(l)}_{ij}\\delta^{(l)}_j$ dùng để tính $\\delta^{l-1}$ tại mỗi neural.\n",
    "\n",
    "$\\delta^{l}_{i}=\\theta^{'}(s^{l}_{i}) \\sum\\limits_{k=1}^{d^{(l+1)}}w^{(l+1)}_{ij}\\delta^{(l+1)}_j $\n",
    "\n",
    "Ta chỉ tính $\\delta^{1}$ ở tầng ẩn thứ nhất (L=1), không tính cho tầng input bởi không có giá trị cho việc cập nhật $w_{ij}$.\n",
    "\n",
    "$\\delta^{1}_{i}=\\theta^{'}(s^{1}_{i})w^{(2)}_{i1}\\delta^{(2)}_1$ với $i \\in \\{1,2,3\\}$\n",
    "\n",
    "Số lượng phép tính $w^{(l)}_{ij}\\delta^{(l)}_j$ là: 3\n",
    "\n",
    "\n",
    "Với mỗi trọng số $w^{(l)}_{ij}$, sẽ tính $\\frac{\\partial e}{\\partial w^{(l)}_{ij}} = a^{(l-1)}_i\\delta^{(l)}_j$.\n",
    "\n",
    "Số lượng trọng số $w^{(l)}_{ij}$ bằng: 6*3+4=22\n",
    "\n",
    "Do đó sẽ có 22 phép tính $a^{(l-1)}_i\\delta^{(l)}_j$.\n",
    "\n",
    "Tổng số phép tính $w^{(l)}_{ij}a^{(l-1)}_i$, $w^{(l)}_{ij}\\delta^{(l)}_j$, $a^{(l-1)}_i\\delta^{(l)}_j$ là: 22 + 3 + 22 = 47"
   ]
  },
  {
   "cell_type": "markdown",
   "metadata": {
    "deletable": false,
    "nbgrader": {
     "cell_type": "markdown",
     "checksum": "d81773f072cd15e4a27b6cd240a5d990",
     "grade": true,
     "grade_id": "c8",
     "locked": false,
     "points": 1,
     "schema_version": 3,
     "solution": true,
     "task": false
    }
   },
   "source": [
    "D"
   ]
  },
  {
   "cell_type": "markdown",
   "metadata": {},
   "source": [
    "## Câu 9 (1 điểm)"
   ]
  },
  {
   "cell_type": "markdown",
   "metadata": {},
   "source": [
    "### Cách 1:"
   ]
  },
  {
   "cell_type": "markdown",
   "metadata": {},
   "source": [
    "Gọi $m$ là số tầng ẩn, $\\overline{x}$ là số neural trung bình có ở mỗi tầng\n",
    "\n",
    "Ta có: $\\overline{x}\\times m+m=36$\n",
    "$\\Leftrightarrow\\overline{x}=\\frac{36-m}{m}$ (1) với $m\\in N^{*}$.\n",
    "\n",
    "Vì trong 36 neural ở tầng ẩn đã bao gồm các neural \"+1\". Do đó $m\\le 18 $\n",
    "\n",
    "Số lượng trọng số có thể có:\n",
    "\n",
    "$S=10\\overline{x}+(m-1)(\\overline{x}+1)\\overline{x}+(\\overline{x}+1)$ (2)\n",
    "\n",
    "Thay (1) vào (2):\n",
    "\n",
    "$S=10\\overline{x}+(m-1)(\\overline{x}+1)\\overline{x}+(\\overline{x}+1)$\n",
    "\n",
    "$\\Leftrightarrow S=(36-m)\\frac{47m-36}{m^2}+1$ (3)\n",
    "\n",
    "Ta có bảng như sau"
   ]
  },
  {
   "cell_type": "code",
   "execution_count": 11,
   "metadata": {},
   "outputs": [
    {
     "name": "stdout",
     "output_type": "stream",
     "text": [
      "Bảng 1\n"
     ]
    },
    {
     "data": {
      "text/html": [
       "<div>\n",
       "<style scoped>\n",
       "    .dataframe tbody tr th:only-of-type {\n",
       "        vertical-align: middle;\n",
       "    }\n",
       "\n",
       "    .dataframe tbody tr th {\n",
       "        vertical-align: top;\n",
       "    }\n",
       "\n",
       "    .dataframe thead th {\n",
       "        text-align: right;\n",
       "    }\n",
       "</style>\n",
       "<table border=\"1\" class=\"dataframe\">\n",
       "  <thead>\n",
       "    <tr style=\"text-align: right;\">\n",
       "      <th></th>\n",
       "      <th>x</th>\n",
       "      <th>y</th>\n",
       "    </tr>\n",
       "  </thead>\n",
       "  <tbody>\n",
       "    <tr>\n",
       "      <th>0</th>\n",
       "      <td>1.0</td>\n",
       "      <td>386.000000</td>\n",
       "    </tr>\n",
       "    <tr>\n",
       "      <th>1</th>\n",
       "      <td>2.0</td>\n",
       "      <td>494.000000</td>\n",
       "    </tr>\n",
       "    <tr>\n",
       "      <th>2</th>\n",
       "      <td>3.0</td>\n",
       "      <td>386.000000</td>\n",
       "    </tr>\n",
       "    <tr>\n",
       "      <th>3</th>\n",
       "      <td>4.0</td>\n",
       "      <td>305.000000</td>\n",
       "    </tr>\n",
       "    <tr>\n",
       "      <th>4</th>\n",
       "      <td>5.0</td>\n",
       "      <td>247.760000</td>\n",
       "    </tr>\n",
       "    <tr>\n",
       "      <th>5</th>\n",
       "      <td>6.0</td>\n",
       "      <td>206.000000</td>\n",
       "    </tr>\n",
       "    <tr>\n",
       "      <th>6</th>\n",
       "      <td>7.0</td>\n",
       "      <td>174.408163</td>\n",
       "    </tr>\n",
       "    <tr>\n",
       "      <th>7</th>\n",
       "      <td>8.0</td>\n",
       "      <td>149.750000</td>\n",
       "    </tr>\n",
       "    <tr>\n",
       "      <th>8</th>\n",
       "      <td>9.0</td>\n",
       "      <td>130.000000</td>\n",
       "    </tr>\n",
       "    <tr>\n",
       "      <th>9</th>\n",
       "      <td>10.0</td>\n",
       "      <td>113.840000</td>\n",
       "    </tr>\n",
       "    <tr>\n",
       "      <th>10</th>\n",
       "      <td>11.0</td>\n",
       "      <td>100.380165</td>\n",
       "    </tr>\n",
       "    <tr>\n",
       "      <th>11</th>\n",
       "      <td>12.0</td>\n",
       "      <td>89.000000</td>\n",
       "    </tr>\n",
       "    <tr>\n",
       "      <th>12</th>\n",
       "      <td>13.0</td>\n",
       "      <td>79.254438</td>\n",
       "    </tr>\n",
       "    <tr>\n",
       "      <th>13</th>\n",
       "      <td>14.0</td>\n",
       "      <td>70.816327</td>\n",
       "    </tr>\n",
       "    <tr>\n",
       "      <th>14</th>\n",
       "      <td>15.0</td>\n",
       "      <td>63.440000</td>\n",
       "    </tr>\n",
       "    <tr>\n",
       "      <th>15</th>\n",
       "      <td>16.0</td>\n",
       "      <td>56.937500</td>\n",
       "    </tr>\n",
       "    <tr>\n",
       "      <th>16</th>\n",
       "      <td>17.0</td>\n",
       "      <td>51.162630</td>\n",
       "    </tr>\n",
       "    <tr>\n",
       "      <th>17</th>\n",
       "      <td>18.0</td>\n",
       "      <td>46.000000</td>\n",
       "    </tr>\n",
       "  </tbody>\n",
       "</table>\n",
       "</div>"
      ],
      "text/plain": [
       "       x           y\n",
       "0    1.0  386.000000\n",
       "1    2.0  494.000000\n",
       "2    3.0  386.000000\n",
       "3    4.0  305.000000\n",
       "4    5.0  247.760000\n",
       "5    6.0  206.000000\n",
       "6    7.0  174.408163\n",
       "7    8.0  149.750000\n",
       "8    9.0  130.000000\n",
       "9   10.0  113.840000\n",
       "10  11.0  100.380165\n",
       "11  12.0   89.000000\n",
       "12  13.0   79.254438\n",
       "13  14.0   70.816327\n",
       "14  15.0   63.440000\n",
       "15  16.0   56.937500\n",
       "16  17.0   51.162630\n",
       "17  18.0   46.000000"
      ]
     },
     "execution_count": 11,
     "metadata": {},
     "output_type": "execute_result"
    }
   ],
   "source": [
    "import pandas as pd\n",
    "x=np.array(range(1,19))\n",
    "y=(36-x)*(47*x-36)/x**2+1\n",
    "data=np.array([x,y]).T\n",
    "df=pd.DataFrame(data,columns=['x','y'])\n",
    "print(\"Bảng 1\")\n",
    "df"
   ]
  },
  {
   "cell_type": "markdown",
   "metadata": {},
   "source": [
    "Đồ thị của (3): \n",
    "\n",
    "![graph](https://i.ibb.co/Vxd1YTg/graph.png)"
   ]
  },
  {
   "cell_type": "markdown",
   "metadata": {},
   "source": [
    "Ta thấy rằng, tại m=18 thì số lượng trọng số đạt giá trị nhỏ nhất.\n",
    "\n",
    "Xét m=18:\n",
    "\n",
    "Số lượng neural \"+1\" bằng 18.\n",
    "\n",
    "Do đó, số neural còn lại bằng: 36 - 18 = 18. Do đó, tại mỗi tầng sẽ có số neural (không tính neural \"+1\") bằng 1.\n",
    "\n",
    "Số lượng trọng số sẽ có:\n",
    "$10\\times2+2\\times(18-1)+2=46$"
   ]
  },
  {
   "cell_type": "markdown",
   "metadata": {},
   "source": [
    "### Cách 2"
   ]
  },
  {
   "cell_type": "markdown",
   "metadata": {},
   "source": [
    "Để số lượng trọng số ít nhất thì trong các tầng ẩn, số neural \"+1\" phải nhiều nhất. Bởi vì một neural \"+1\" ở tầng l: $x^{(l)}_0$ sẽ không có các bộ trọng số $w^{(l)}_{i0}$. Do đó, sẽ làm giảm đi số bộ trọng số $w^{(l)}_{ij}$\n",
    "\n",
    "Mặt khác, mỗi tầng ẩn sẽ có 1 neural \"+1\" $\\Rightarrow$ Số neural \"+1\" tối đa có thể có là 18 với 18 tầng ẩn.\n",
    "\n",
    "Số neural khác neural \"+1\": 36 - 18 = 18. Tức là mỗi tầng sẽ có 1 neural khác neural \"+1\".\n",
    "\n",
    "Số lượng trọng số sẽ có:\n",
    "$10\\times2+2\\times(18-1)+2=46$\n"
   ]
  },
  {
   "cell_type": "markdown",
   "metadata": {
    "deletable": false,
    "nbgrader": {
     "cell_type": "markdown",
     "checksum": "e814a2db0b8a53e4fddfee4bcbf405fc",
     "grade": true,
     "grade_id": "c9",
     "locked": false,
     "points": 1,
     "schema_version": 3,
     "solution": true,
     "task": false
    }
   },
   "source": [
    "A"
   ]
  },
  {
   "cell_type": "markdown",
   "metadata": {},
   "source": [
    "## Câu 10 (1 điểm)"
   ]
  },
  {
   "cell_type": "markdown",
   "metadata": {},
   "source": [
    "### Cách 1:"
   ]
  },
  {
   "cell_type": "markdown",
   "metadata": {},
   "source": [
    "Theo đồ thị của (3) và bảng giá trị (Bảng 1) ở trên. Ta thấy rằng, tại m=2 thì số lượng trọng số đạt giá trị nhỏ nhất.\n",
    "\n",
    "Xét m=2:\n",
    "\n",
    "Số lượng neural \"+1\" bằng 2.\n",
    "\n",
    "Do đó, số neural còn lại bằng: 36 - 2 = 34.\n",
    "Ta sẽ xét tất cả các cặp số lượng neural có thể có ở tầng 1 và tầng 2. Và tại cặp nào sẽ có số lượng trọng số lớn nhất."
   ]
  },
  {
   "cell_type": "code",
   "execution_count": 12,
   "metadata": {},
   "outputs": [
    {
     "name": "stdout",
     "output_type": "stream",
     "text": [
      "Số neural tầng 1: 22, số neural tầng 2: 14\n",
      "Số lượng trọng số: 510\n"
     ]
    }
   ],
   "source": [
    "S=0\n",
    "for i in range(1,35):\n",
    "    x=i\n",
    "    y=34-x\n",
    "    temp=10*x+(x+1)*y+y+1\n",
    "    if temp>S:\n",
    "        S=temp\n",
    "        layer1=x\n",
    "        layer2=y\n",
    "print(\"Số neural tầng 1: {}, số neural tầng 2: {}\".format(layer1+1,layer2+1))\n",
    "print(\"Số lượng trọng số: {}\".format(S))"
   ]
  },
  {
   "cell_type": "markdown",
   "metadata": {},
   "source": [
    "### Cách 2:"
   ]
  },
  {
   "cell_type": "markdown",
   "metadata": {},
   "source": [
    "**Xét trường hợp số tầng ẩn bằng 1** \n",
    "\n",
    "Ở tầng ẩn sẽ có: 1 neural \"+1\" và 35 neural còn lại.\n",
    "\n",
    "Số lượng trọng số sẽ có:\n",
    "$10\\times35+36\\times1=422$"
   ]
  },
  {
   "cell_type": "markdown",
   "metadata": {},
   "source": [
    "**Xét trường hợp số tầng ẩn bằng 2**\n",
    "\n",
    "Số neural \"+1\": 2. Số neural còn lại: 36 - 2 =34.\n",
    "\n",
    "Ta sẽ xét tất cả các cặp số lượng neural có thể có ở tầng ẩn 1 và tầng ẩn 2. Và tại cặp nào sẽ có số lượng trọng số lớn nhất.\n",
    "\n"
   ]
  },
  {
   "cell_type": "code",
   "execution_count": 13,
   "metadata": {},
   "outputs": [
    {
     "name": "stdout",
     "output_type": "stream",
     "text": [
      "Số neural tầng 1: 22, số neural tầng 2: 14\n",
      "Số lượng trọng số: 510\n"
     ]
    }
   ],
   "source": [
    "S=0\n",
    "for i in range(1,35):\n",
    "    x=i\n",
    "    y=34-x\n",
    "    temp=10*x+(x+1)*y+y+1\n",
    "    if temp>S:\n",
    "        S=temp\n",
    "        layer1=x\n",
    "        layer2=y\n",
    "print(\"Số neural tầng 1: {}, số neural tầng 2: {}\".format(layer1+1,layer2+1))\n",
    "print(\"Số lượng trọng số: {}\".format(S))"
   ]
  },
  {
   "cell_type": "markdown",
   "metadata": {},
   "source": [
    "Ta thấy rằng trường hợp số tầng ẩn bằng 2, tầng ẩn 1 có 22 neural và tầng ẩn 2 có 14 neural thì số lượng trọng số lớn nhất và bằng 510.\n",
    "\n",
    "Đây cũng là kết quả lớn nhất trong tất cả các đáp án của đề cho. Do đó, số lượng trọng số lớn nhất bằng 510"
   ]
  },
  {
   "cell_type": "markdown",
   "metadata": {
    "deletable": false,
    "nbgrader": {
     "cell_type": "markdown",
     "checksum": "41cbf5c6d2b94eeae0a712be2181fef6",
     "grade": true,
     "grade_id": "c10",
     "locked": false,
     "points": 1,
     "schema_version": 3,
     "solution": true,
     "task": false
    }
   },
   "source": [
    "E"
   ]
  }
 ],
 "metadata": {
  "kernelspec": {
   "display_name": "Python 3",
   "language": "python",
   "name": "python3"
  },
  "language_info": {
   "codemirror_mode": {
    "name": "ipython",
    "version": 3
   },
   "file_extension": ".py",
   "mimetype": "text/x-python",
   "name": "python",
   "nbconvert_exporter": "python",
   "pygments_lexer": "ipython3",
   "version": "3.7.7"
  },
  "toc": {
   "base_numbering": 1,
   "nav_menu": {},
   "number_sections": true,
   "sideBar": true,
   "skip_h1_title": false,
   "title_cell": "Table of Contents",
   "title_sidebar": "Contents",
   "toc_cell": false,
   "toc_position": {},
   "toc_section_display": true,
   "toc_window_display": false
  },
  "varInspector": {
   "cols": {
    "lenName": 16,
    "lenType": 16,
    "lenVar": 40
   },
   "kernels_config": {
    "python": {
     "delete_cmd_postfix": "",
     "delete_cmd_prefix": "del ",
     "library": "var_list.py",
     "varRefreshCmd": "print(var_dic_list())"
    },
    "r": {
     "delete_cmd_postfix": ") ",
     "delete_cmd_prefix": "rm(",
     "library": "var_list.r",
     "varRefreshCmd": "cat(var_dic_list()) "
    }
   },
   "types_to_exclude": [
    "module",
    "function",
    "builtin_function_or_method",
    "instance",
    "_Feature"
   ],
   "window_display": false
  }
 },
 "nbformat": 4,
 "nbformat_minor": 4
}
