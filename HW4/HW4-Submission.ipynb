{
 "cells": [
  {
   "cell_type": "markdown",
   "metadata": {},
   "source": [
    "# Bài tập 4\n",
    "\n",
    "Nguyễn Đỗ Chí Thảo - 1712159"
   ]
  },
  {
   "cell_type": "markdown",
   "metadata": {},
   "source": [
    "## Câu 1 (1 điểm)"
   ]
  },
  {
   "cell_type": "markdown",
   "metadata": {},
   "source": [
    "Ta có công thức:\n",
    "\n",
    "$\\epsilon = \\sqrt{\\frac{8}{N} ln \\frac{4m_\\mathcal{H}(2N)}{\\delta} } $\n",
    "\n",
    "Với $\\epsilon=0.05$, $\\delta=0.05$, $d_{vc}=10$, $m_\\mathcal{H}(2N) = (2N)^{d_{VC}}$\n",
    "\n",
    "Giải phương trình trên, ta được $N \\approx 452956.8647$"
   ]
  },
  {
   "cell_type": "markdown",
   "metadata": {},
   "source": [
    "Để giải phương trình trên, ta có thể sử dụng Matlab.\n",
    "\n",
    "Source code Matlab: https://drive.google.com/drive/folders/1YQM9Qu3gdlkOEStMMvp0qK64fDmrU12Y?usp=sharing"
   ]
  },
  {
   "cell_type": "markdown",
   "metadata": {
    "deletable": false,
    "nbgrader": {
     "cell_type": "markdown",
     "checksum": "2e83d862b3c5fd4fb57d72c50e8115f8",
     "grade": true,
     "grade_id": "c1",
     "locked": false,
     "points": 1,
     "schema_version": 3,
     "solution": true,
     "task": false
    }
   },
   "source": [
    "D"
   ]
  },
  {
   "cell_type": "markdown",
   "metadata": {},
   "source": [
    "## Câu 2 (1 điểm)"
   ]
  },
  {
   "cell_type": "markdown",
   "metadata": {},
   "source": [
    "Theo đề $N=10000$, $\\delta=0.05$, $d_{vc}=50$, $m_\\mathcal{H}(N) = (N)^{d_{VC}}$\n",
    "\n",
    "[a] $\\epsilon \\le \\sqrt{\\frac{8}{N} ln \\frac{4m_\\mathcal{H}(2N)}{\\delta} } $\n",
    "\n",
    "$\\Rightarrow\\epsilon \\le 0.6322$\n",
    "\n",
    "[b] $\\epsilon \\le \\sqrt{\\frac{2ln(2Nm_{\\mathcal H}(N))}{N}}+\\sqrt{\\frac{2}{N}ln\\frac{1}{δ}} + \\frac{1}{N}$\n",
    "\n",
    "$\\Rightarrow\\epsilon \\le0.3313$\n",
    "\n",
    "[c] Biến đổi tương đương, ta được:\n",
    "\n",
    "$N\\epsilon^2-2\\epsilon-ln \\frac{6m_\\mathcal{H}(2N)}{\\delta} \\le 0$\n",
    "\n",
    "$\\Rightarrow\\epsilon \\le0.2237$\n",
    "\n",
    "\n",
    "[d] Biến đổi tương đương, ta được:\n",
    "\n",
    "$(2N-4)\\epsilon^2-4\\epsilon-ln \\frac{4m_\\mathcal{H}(N^2)}{\\delta} \\le 0$\n",
    "\n",
    "$(2N-4)\\epsilon^2-4\\epsilon-ln \\frac{4m_\\mathcal{H}(N^2)}{\\delta} \\le 0$\n",
    "\n",
    "$\\Rightarrow\\epsilon \\le0.2152$"
   ]
  },
  {
   "cell_type": "markdown",
   "metadata": {},
   "source": [
    "Để giải phương trình trên, ta có thể sử dụng Matlab.\n",
    "\n",
    "Source code Matlab: https://drive.google.com/drive/folders/1YQM9Qu3gdlkOEStMMvp0qK64fDmrU12Y?usp=sharing"
   ]
  },
  {
   "cell_type": "markdown",
   "metadata": {
    "deletable": false,
    "nbgrader": {
     "cell_type": "markdown",
     "checksum": "47d4e2bb3e4812ef7b37e032a898cfec",
     "grade": true,
     "grade_id": "c2",
     "locked": false,
     "points": 1,
     "schema_version": 3,
     "solution": true,
     "task": false
    }
   },
   "source": [
    "D"
   ]
  },
  {
   "cell_type": "markdown",
   "metadata": {},
   "source": [
    "## Câu 3 (1 điểm)"
   ]
  },
  {
   "cell_type": "markdown",
   "metadata": {},
   "source": [
    "Theo đề $N=5$, $\\delta=0.05$, $d_{vc}=50$, $m_\\mathcal{H}(N) = 2^N$\n",
    "\n",
    "[a] $\\epsilon \\le \\sqrt{\\frac{8}{N} ln \\frac{4m_\\mathcal{H}(2N)}{\\delta} } $\n",
    "\n",
    "$\\Rightarrow\\epsilon \\le4.2546$\n",
    "\n",
    "[b] $\\epsilon \\le \\sqrt{\\frac{2ln(2Nm_{\\mathcal H}(N))}{N}}+\\sqrt{\\frac{2}{N}ln\\frac{1}{δ}} + \\frac{1}{N}$\n",
    "\n",
    "$\\Rightarrow\\epsilon \\le2.8137$\n",
    "\n",
    "[c] Biến đổi tương đương, ta được:\n",
    "\n",
    "$N\\epsilon^2-2\\epsilon-ln \\frac{6m_\\mathcal{H}(2N)}{\\delta} \\le 0$\n",
    "\n",
    "$\\Rightarrow\\epsilon \\le1.7440$\n",
    "\n",
    "\n",
    "[d] Biến đổi tương đương, ta được:\n",
    "\n",
    "$(2N-4)\\epsilon^2-4\\epsilon-ln \\frac{4m_\\mathcal{H}(N^2)}{\\delta} \\le 0$\n",
    "\n",
    "$\\Rightarrow\\epsilon \\le2.2645$"
   ]
  },
  {
   "cell_type": "markdown",
   "metadata": {},
   "source": [
    "Để giải phương trình trên, ta có thể sử dụng Matlab.\n",
    "\n",
    "Source code Matlab: https://drive.google.com/drive/folders/1YQM9Qu3gdlkOEStMMvp0qK64fDmrU12Y?usp=sharing"
   ]
  },
  {
   "cell_type": "markdown",
   "metadata": {
    "deletable": false,
    "nbgrader": {
     "cell_type": "markdown",
     "checksum": "0997a909d9ab1f250c2bfd0645fee970",
     "grade": true,
     "grade_id": "c3",
     "locked": false,
     "points": 1,
     "schema_version": 3,
     "solution": true,
     "task": false
    }
   },
   "source": [
    "C"
   ]
  },
  {
   "cell_type": "markdown",
   "metadata": {},
   "source": [
    "## Câu 4 (1 điểm)"
   ]
  },
  {
   "cell_type": "code",
   "execution_count": 1,
   "metadata": {},
   "outputs": [],
   "source": [
    "import numpy as np\n",
    "def generate_dataset(N):\n",
    "    X = np.random.uniform(-1, 1, (N, 1))\n",
    "    Y = np.sin(np.pi * X)\n",
    "    return X, Y"
   ]
  },
  {
   "cell_type": "code",
   "execution_count": 2,
   "metadata": {},
   "outputs": [],
   "source": [
    "def LinearRegression(X, ys):\n",
    "    iteration = 0\n",
    "    X_dagger = np.dot(np.linalg.inv(np.dot(X.T, X)), X.T)\n",
    "    w = np.dot(X_dagger, ys)\n",
    "    return w"
   ]
  },
  {
   "cell_type": "code",
   "execution_count": 3,
   "metadata": {},
   "outputs": [
    {
     "name": "stdout",
     "output_type": "stream",
     "text": [
      "g_mean(x)=1.4329096400300716*x\n"
     ]
    }
   ],
   "source": [
    "#câu 4\n",
    "X, Y = generate_dataset(2)\n",
    "w=LinearRegression(X,Y)\n",
    "iteration=10000\n",
    "for i in range(iteration):\n",
    "    X, Y = generate_dataset(2)\n",
    "    w=np.append(w,LinearRegression(X,Y))\n",
    "w_avg=np.mean(w)\n",
    "print('g_mean(x)={}*x'.format(w_avg))"
   ]
  },
  {
   "cell_type": "markdown",
   "metadata": {
    "deletable": false,
    "nbgrader": {
     "cell_type": "markdown",
     "checksum": "efabab5c4035a6864ac8cb3e0061c6f0",
     "grade": true,
     "grade_id": "c4",
     "locked": false,
     "points": 1,
     "schema_version": 3,
     "solution": true,
     "task": false
    }
   },
   "source": [
    "E"
   ]
  },
  {
   "cell_type": "markdown",
   "metadata": {},
   "source": [
    "## Câu 5 (1 điểm)"
   ]
  },
  {
   "cell_type": "code",
   "execution_count": 4,
   "metadata": {},
   "outputs": [
    {
     "name": "stdout",
     "output_type": "stream",
     "text": [
      "Bias = 0.27054688891913364\n"
     ]
    }
   ],
   "source": [
    "#câu 5\n",
    "X, Y = generate_dataset(1000)\n",
    "bias = np.mean((w_avg*X-Y)**2)\n",
    "print('Bias = {}'.format(bias))"
   ]
  },
  {
   "cell_type": "markdown",
   "metadata": {
    "deletable": false,
    "nbgrader": {
     "cell_type": "markdown",
     "checksum": "0b484b8390bec96142e8a1213ee8cd2c",
     "grade": true,
     "grade_id": "c5",
     "locked": false,
     "points": 1,
     "schema_version": 3,
     "solution": true,
     "task": false
    }
   },
   "source": [
    "B"
   ]
  },
  {
   "cell_type": "markdown",
   "metadata": {},
   "source": [
    "## Câu 6 (1 điểm)"
   ]
  },
  {
   "cell_type": "code",
   "execution_count": 5,
   "metadata": {},
   "outputs": [
    {
     "name": "stdout",
     "output_type": "stream",
     "text": [
      "Var = 0.23320234031576637\n"
     ]
    }
   ],
   "source": [
    "#Cau 6\n",
    "X, Y = generate_dataset(10000)\n",
    "var=0\n",
    "for i in range(len(X)):\n",
    "    var+=np.mean((X[i]*w-X[i]*w_avg)**2)\n",
    "print('Var = {}'.format(var/len(X)))"
   ]
  },
  {
   "cell_type": "markdown",
   "metadata": {
    "deletable": false,
    "nbgrader": {
     "cell_type": "markdown",
     "checksum": "26f542221236fb24d0ddbee584eed7d0",
     "grade": true,
     "grade_id": "c6",
     "locked": false,
     "points": 1,
     "schema_version": 3,
     "solution": true,
     "task": false
    }
   },
   "source": [
    "A"
   ]
  },
  {
   "cell_type": "markdown",
   "metadata": {},
   "source": [
    "## Câu 7 (1 điểm)"
   ]
  },
  {
   "cell_type": "code",
   "execution_count": 6,
   "metadata": {},
   "outputs": [],
   "source": [
    "#Câu 7\n",
    "#a\n",
    "X, Y = generate_dataset(2)\n",
    "X = np.ones((2, 1))\n",
    "w=LinearRegression(X,Y)\n",
    "\n",
    "# Tính g_mean(x)\n",
    "iteration=10000\n",
    "for i in range(iteration):\n",
    "    X, Y = generate_dataset(2)\n",
    "    X = np.ones((2, 1))\n",
    "    w=np.append(w,LinearRegression(X,Y))\n",
    "w_avg=np.mean(w)\n",
    "\n",
    "#bias\n",
    "X, Y = generate_dataset(1000)\n",
    "X = np.ones((1000, 1))\n",
    "bias_a = np.mean((w_avg*X-Y)**2)\n",
    "\n",
    "#var\n",
    "var_a=0\n",
    "for i in range(len(X)):\n",
    "    var_a+=np.mean((X[i]*w-w_avg*X[i])**2)\n",
    "var_a/=len(X)\n",
    "\n",
    "#print(\"[a] E_out = bias + variance = {} + {} = {}\".format(np.round(bias_a, 2),np.round(var_a, 2),np.round(bias_a+var_a, 2)))"
   ]
  },
  {
   "cell_type": "code",
   "execution_count": 7,
   "metadata": {},
   "outputs": [],
   "source": [
    "#7b\n",
    "X, Y = generate_dataset(2)\n",
    "w=LinearRegression(X,Y)\n",
    "\n",
    "# Tính g_mean(x)\n",
    "iteration=10000\n",
    "for i in range(iteration):\n",
    "    X, Y = generate_dataset(2)\n",
    "    w=np.append(w,LinearRegression(X,Y))\n",
    "w_avg=np.mean(w)\n",
    "\n",
    "#bias\n",
    "X, Y = generate_dataset(1000)\n",
    "bias_b = np.mean((w_avg*X-Y)**2)\n",
    "\n",
    "#var\n",
    "var_b=0\n",
    "for i in range(len(X)):\n",
    "    var_b+=np.mean((X[i]*w-w_avg*X[i])**2)\n",
    "var_b/=len(X)\n",
    "#print(\"[b] E_out = bias + variance = {} + {} = {}\".format(np.round(bias_b, 2),np.round(var_b, 2),np.round(bias_b+var_b, 2)))"
   ]
  },
  {
   "cell_type": "code",
   "execution_count": 8,
   "metadata": {},
   "outputs": [],
   "source": [
    "#7c\n",
    "X, Y = generate_dataset(2)\n",
    "X = np.hstack((np.ones((2, 1)), X))#Add '1' column\n",
    "w=LinearRegression(X,Y).reshape(-1,2)\n",
    "\n",
    "# Tính g_mean(x)\n",
    "iteration=10000\n",
    "for i in range(iteration):\n",
    "    X, Y = generate_dataset(2)\n",
    "    X = np.hstack((np.ones((2, 1)), X))\n",
    "    w=np.append(w,LinearRegression(X,Y).reshape(-1,2),axis=0)\n",
    "w_avg=np.array([np.sum(w[:,0]),np.sum(w[:,-1])])/len(w)\n",
    "\n",
    "#bias\n",
    "X, Y = generate_dataset(1000)\n",
    "X = np.hstack((np.ones((1000, 1)), X))\n",
    "bias_c = np.mean((np.dot(X,np.reshape(w_avg,(2, 1)))-Y)**2)\n",
    "\n",
    "#var\n",
    "var_c=0\n",
    "for i in range(len(X)):\n",
    "    var_c+=np.mean((np.dot(w,X[i].reshape(2,-1))-np.dot(X[i],w_avg))**2)\n",
    "var_c/=len(X)\n",
    "#print(\"E_out = bias + variance = {} + {} = {}\".format(np.round(bias_c, 2),np.round(var_c, 2),np.round(bias_c+var_c, 2)))\n"
   ]
  },
  {
   "cell_type": "code",
   "execution_count": 9,
   "metadata": {},
   "outputs": [],
   "source": [
    "#7d\n",
    "X, Y = generate_dataset(2)\n",
    "Z=X**2\n",
    "w=LinearRegression(Z,Y)\n",
    "\n",
    "# Tính g_mean(x)\n",
    "iteration=10000\n",
    "for i in range(iteration):\n",
    "    X, Y = generate_dataset(2)\n",
    "    Z=X**2\n",
    "    w=np.append(w,LinearRegression(Z,Y))\n",
    "w_avg=np.mean(w)\n",
    "\n",
    "#bias\n",
    "X, Y = generate_dataset(1000)\n",
    "Z=X**2\n",
    "bias_d = np.mean((w_avg*Z-Y)**2)\n",
    "\n",
    "#var\n",
    "var_d=0\n",
    "for i in range(len(Z)):\n",
    "    var_d+=np.mean((Z[i]*w-Z[i]*w_avg)**2)\n",
    "var_d/=len(Z)\n",
    "#print(\"E_out = bias + variance = {} + {} = {}\".format(np.round(bias_d, 2),np.round(var_d, 2),np.round(bias_d+var_d, 2)))"
   ]
  },
  {
   "cell_type": "code",
   "execution_count": 10,
   "metadata": {},
   "outputs": [],
   "source": [
    "#7e\n",
    "\n",
    "X, Y = generate_dataset(2)\n",
    "#Bien doi X thanh X**2\n",
    "X=X*X\n",
    "X = np.hstack((np.ones((2, 1)), X))#Add '1' column\n",
    "#Z=X*X\n",
    "w=LinearRegression(X,Y).reshape(-1,2)\n",
    "\n",
    "# Tính g_mean(x)\n",
    "iteration=10000\n",
    "for i in range(iteration):\n",
    "    X, Y = generate_dataset(2)\n",
    "    X=X*X\n",
    "    X = np.hstack((np.ones((2, 1)), X))\n",
    "    #Z=X*X\n",
    "    #E_d\n",
    "    w=np.append(w,LinearRegression(X,Y).reshape(-1,2),axis=0)\n",
    "w_avg=np.array([np.sum(w[:,0]),np.sum(w[:,-1])])/len(w)\n",
    "\n",
    "#bias\n",
    "X, Y = generate_dataset(1000)\n",
    "X=X*X\n",
    "X = np.hstack((np.ones((1000, 1)), X))\n",
    "#Z=X*X\n",
    "bias_e = np.mean((np.dot(X,np.reshape(w_avg,(2, 1)))-Y)**2)\n",
    "\n",
    "#var\n",
    "var_e=0\n",
    "for i in range(len(X)):\n",
    "    var_e+=np.mean((np.dot(w,X[i].reshape(2,-1))-np.dot(X[i],w_avg))**2)\n",
    "var_e/=len(X)\n",
    "#print(\"E_out = bias + variance = {} + {} = {}\".format(np.round(bias_e, 2),np.round(var_e, 2),np.round(bias_e+var_e, 2)))\n"
   ]
  },
  {
   "cell_type": "code",
   "execution_count": 11,
   "metadata": {},
   "outputs": [
    {
     "name": "stdout",
     "output_type": "stream",
     "text": [
      "[a] E_out = bias + variance = 0.53 + 0.25 = 0.78\n",
      "[b] E_out = bias + variance = 0.25 + 0.23 = 0.48\n",
      "[c] E_out = bias + variance = 0.2 + 1.63 = 1.82\n",
      "[d] E_out = bias + variance = 0.51 + 12.76 = 13.27\n",
      "[e] E_out = bias + variance = 174.83 + 1826599.84 = 1826774.67\n"
     ]
    }
   ],
   "source": [
    "print(\"[a] E_out = bias + variance = {} + {} = {}\".format(np.round(bias_a, 2),np.round(var_a, 2),np.round(bias_a+var_a, 2)))\n",
    "print(\"[b] E_out = bias + variance = {} + {} = {}\".format(np.round(bias_b, 2),np.round(var_b, 2),np.round(bias_b+var_b, 2)))\n",
    "print(\"[c] E_out = bias + variance = {} + {} = {}\".format(np.round(bias_c, 2),np.round(var_c, 2),np.round(bias_c+var_c, 2)))\n",
    "print(\"[d] E_out = bias + variance = {} + {} = {}\".format(np.round(bias_d, 2),np.round(var_d, 2),np.round(bias_d+var_d, 2)))\n",
    "print(\"[e] E_out = bias + variance = {} + {} = {}\".format(np.round(bias_e, 2),np.round(var_e, 2),np.round(bias_e+var_e, 2)))"
   ]
  },
  {
   "cell_type": "markdown",
   "metadata": {
    "deletable": false,
    "nbgrader": {
     "cell_type": "markdown",
     "checksum": "322a244b0fae3a20ec568a5099aaaec1",
     "grade": true,
     "grade_id": "c7",
     "locked": false,
     "points": 1,
     "schema_version": 3,
     "solution": true,
     "task": false
    }
   },
   "source": [
    "B"
   ]
  },
  {
   "cell_type": "markdown",
   "metadata": {},
   "source": [
    "## Câu 8 (1 điểm)"
   ]
  },
  {
   "cell_type": "markdown",
   "metadata": {},
   "source": [
    "Ta có công thức hồi quy:\n",
    "\n",
    "$m_\\mathcal{H}(N) = 2m_\\mathcal{H}(N-1) - \\binom{N-1}{q}$\n",
    "\n",
    "Chúng ta sẽ khởi tạo ngẫu nhiên q, ứng với mỗi q thử tăng $N$ dần lên cho đến khi $m_\\mathcal{H}(N)$ bị break."
   ]
  },
  {
   "cell_type": "code",
   "execution_count": 12,
   "metadata": {},
   "outputs": [],
   "source": [
    "import math\n",
    "import random \n",
    "from scipy.special import comb\n",
    "def C(N, k):\n",
    "    if k > N: return 0\n",
    "    return math.factorial(N) // (math.factorial(k) * math.factorial(N-k))"
   ]
  },
  {
   "cell_type": "code",
   "execution_count": 13,
   "metadata": {},
   "outputs": [
    {
     "name": "stdout",
     "output_type": "stream",
     "text": [
      "q=49, dvc=49\n",
      "q=12, dvc=12\n",
      "q=15, dvc=15\n",
      "q=5, dvc=5\n",
      "q=75, dvc=75\n",
      "q=63, dvc=63\n",
      "q=20, dvc=20\n",
      "q=12, dvc=12\n",
      "q=3, dvc=3\n",
      "q=55, dvc=55\n"
     ]
    }
   ],
   "source": [
    "# Câu 8\n",
    "interation=10\n",
    "for i in range(interation):\n",
    "    q=random.randint(0, 100)\n",
    "    mH=2\n",
    "    N=1\n",
    "    while 1:\n",
    "        mH=2*mH-C(N,q)\n",
    "        N+=1\n",
    "        if mH<2**N:\n",
    "            break\n",
    "    print(\"q={}, dvc={}\".format(q,N-1))"
   ]
  },
  {
   "cell_type": "markdown",
   "metadata": {},
   "source": [
    "Qua 10 giá trị q được phát sinh ngẫu nhiên ở trên, ta thấy rằng $d_{vc}=q$"
   ]
  },
  {
   "cell_type": "markdown",
   "metadata": {
    "deletable": false,
    "nbgrader": {
     "cell_type": "markdown",
     "checksum": "d81773f072cd15e4a27b6cd240a5d990",
     "grade": true,
     "grade_id": "c8",
     "locked": false,
     "points": 1,
     "schema_version": 3,
     "solution": true,
     "task": false
    }
   },
   "source": [
    "C"
   ]
  },
  {
   "cell_type": "markdown",
   "metadata": {},
   "source": [
    "## Câu 9 (1 điểm)"
   ]
  },
  {
   "cell_type": "markdown",
   "metadata": {},
   "source": [
    "**Tìm chặn dưới:**\n",
    "\n",
    "Theo đề, ta có: $H_1\\cap H_2 = \\emptyset \\Rightarrow d_{vc}(H_1\\cap H_2)=0$\n",
    "\n",
    "Do đó, xét các tập K hypothesis: $H_1, H_2, ... H_k$ thì tồn tại trường hợp $H_1\\cap H_2 .... \\cap H_k = \\emptyset $.\n",
    "Do đó, chặn dưới sẽ là 0\n",
    "\n",
    "**Tìm chặn trên:**\n",
    "\n",
    "Qua kết quả ở trên, chỉ còn 3 trường hợp [a], [b], [c]\n",
    "\n",
    "Theo như kiến thức về các phép toán trên tập hợp: $max(A\\cap B=B) \\Leftrightarrow$ B bé hơn A và B nằm hoàn toàn trong A"
   ]
  },
  {
   "cell_type": "code",
   "execution_count": 14,
   "metadata": {},
   "outputs": [
    {
     "data": {
      "text/html": [
       "<img src=\"https://encrypted-tbn0.gstatic.com/images?q=tbn%3AANd9GcTGt-H5w8eeIx9I0ci-q_KENXdG8NKR8MhWyA&usqp=CAU\"/>"
      ],
      "text/plain": [
       "<IPython.core.display.Image object>"
      ]
     },
     "execution_count": 14,
     "metadata": {},
     "output_type": "execute_result"
    }
   ],
   "source": [
    "from IPython.display import Image\n",
    "Image(url='https://encrypted-tbn0.gstatic.com/images?q=tbn%3AANd9GcTGt-H5w8eeIx9I0ci-q_KENXdG8NKR8MhWyA&usqp=CAU')"
   ]
  },
  {
   "cell_type": "markdown",
   "metadata": {},
   "source": [
    "Quay lại bài tập của chúng ta, $max\\{d_{vc}(H_1\\cap H_2 .... \\cap H_k)\\} = d_{vc}(H_i) \\Leftrightarrow H_1\\cap H_2 .... \\cap H_k  = H_i$ với $i \\in \\{1, 2 ... k\\}$. \n",
    "\n",
    "$H_i$ nằm trong phần giao: $H_1\\cap H_2 .... \\cap H_k$ cho nên $H_i$ sẽ có $d_{vc}$ bé nhất ( Nếu xét trong tập hợp thì $H_i$ là tập bé nhất)\n",
    "\n",
    "Suy ra\n",
    "<center>$max\\{d_{vc}(\\bigcap_{k=1}^K \\mathcal H_k)\\} ≤ d_{vc}(\\mathcal H_i)$ với $i \\in \\{1, 2 ... k\\}$</center>\n",
    "\n",
    "Hay \n",
    "\n",
    "<center>$d_{vc}(\\bigcap_{k=1}^K \\mathcal H_k) ≤ min\\{d_{vc}(\\mathcal H_k)\\}_{k=1}$</center>"
   ]
  },
  {
   "cell_type": "markdown",
   "metadata": {
    "deletable": false,
    "nbgrader": {
     "cell_type": "markdown",
     "checksum": "e814a2db0b8a53e4fddfee4bcbf405fc",
     "grade": true,
     "grade_id": "c9",
     "locked": false,
     "points": 1,
     "schema_version": 3,
     "solution": true,
     "task": false
    }
   },
   "source": [
    "B"
   ]
  },
  {
   "cell_type": "markdown",
   "metadata": {},
   "source": [
    "## Câu 10 (1 điểm)"
   ]
  },
  {
   "cell_type": "markdown",
   "metadata": {},
   "source": [
    "**Tìm chặn dưới:**\n",
    "\n",
    "Xét tập hypothesis $H=H_1\\cup H_2 .... \\cup H_k$\n",
    "\n",
    "Từ tập H ta có thể dễ dàng lấy ra hypothesis $H_i$ có $d_{vc}(H_i)=max\\{d_{vc}(\\mathcal H_k)\\}_{k=1}^K $\n",
    "\n",
    "Do đó, chặn dưới là $max\\{d_{vc}(\\mathcal H_k)\\}_{k=1}^K $\n",
    "\n",
    "**Tìm chặn trên:**\n",
    "\n",
    "Ta chỉ còn hai trường hợp [d], [e]. Mỗi ràng buộc trên nếu đúng sẽ đúng cho tất cả các trường hợp. Do đó, ta chỉ cần chỉ ra 1 trường hợp mà ràng buộc đó sai thì là chứng minh được ràng buộc đó sai.\n",
    "\n",
    "Xét  $H_1$ là hypothesis phân lớp tất cả các bi về màu đỏ, $H_2$ là hypothesis phân lớp tất cả các bi về màu xanh.\n",
    "\n",
    "$H_1$ có break point tại N = 1, do $H_1$ không thể \"shatter\" tại trường hợp có 1 viên bi và là bi xanh: {xanh} $\\Rightarrow d_{vc}(H_1)=0$\n",
    "\n",
    "Tương tự, $H_2$ có break point tại N = 1, do $H_2$ không thể \"shatter\" tại trường hợp có 1 viên bi và là bi đỏ: {đỏ} $\\Rightarrow d_{vc}(H_2)=0$\n",
    "\n",
    "Xét $H=H_1\\cup H_2$. H có thể \"shatter\" tại N=1. Tuy nhiên, với N = 2 và hai bi khác màu nhau: {xanh, đỏ} hoặc {đỏ, xanh} thì H không thể \"shatter\"  $\\Rightarrow d_{vc}(H)=1$\n",
    "\n",
    "Ta có: \n",
    "\n",
    "$d_{vc}(H) > d_{vc}(H_1) + d_{vc}(H_2)$ (1 > 0 + 0) $\\Rightarrow$ ràng buộc [d] sai\n",
    "\n",
    "Lại có:\n",
    "\n",
    "$d_{vc}(H) \\le 2 -1 + 0 + 0 = k - 1 + d_{vc}(H_1) + d_{vc}(H_2) = k-1+ \\sum_{k=1}^K\\{d_{vc}(\\mathcal H_k)\\}$ $\\Rightarrow$ ràng buộc [e] đúng\n",
    "\n",
    "$\\Rightarrow$ Điều phải chứng minh"
   ]
  },
  {
   "cell_type": "markdown",
   "metadata": {
    "deletable": false,
    "nbgrader": {
     "cell_type": "markdown",
     "checksum": "41cbf5c6d2b94eeae0a712be2181fef6",
     "grade": true,
     "grade_id": "c10",
     "locked": false,
     "points": 1,
     "schema_version": 3,
     "solution": true,
     "task": false
    }
   },
   "source": [
    "E"
   ]
  }
 ],
 "metadata": {
  "kernelspec": {
   "display_name": "Python 3",
   "language": "python",
   "name": "python3"
  },
  "language_info": {
   "codemirror_mode": {
    "name": "ipython",
    "version": 3
   },
   "file_extension": ".py",
   "mimetype": "text/x-python",
   "name": "python",
   "nbconvert_exporter": "python",
   "pygments_lexer": "ipython3",
   "version": "3.7.7"
  },
  "toc": {
   "base_numbering": 1,
   "nav_menu": {},
   "number_sections": true,
   "sideBar": true,
   "skip_h1_title": false,
   "title_cell": "Table of Contents",
   "title_sidebar": "Contents",
   "toc_cell": false,
   "toc_position": {},
   "toc_section_display": true,
   "toc_window_display": false
  },
  "varInspector": {
   "cols": {
    "lenName": 16,
    "lenType": 16,
    "lenVar": 40
   },
   "kernels_config": {
    "python": {
     "delete_cmd_postfix": "",
     "delete_cmd_prefix": "del ",
     "library": "var_list.py",
     "varRefreshCmd": "print(var_dic_list())"
    },
    "r": {
     "delete_cmd_postfix": ") ",
     "delete_cmd_prefix": "rm(",
     "library": "var_list.r",
     "varRefreshCmd": "cat(var_dic_list()) "
    }
   },
   "types_to_exclude": [
    "module",
    "function",
    "builtin_function_or_method",
    "instance",
    "_Feature"
   ],
   "window_display": false
  }
 },
 "nbformat": 4,
 "nbformat_minor": 4
}
