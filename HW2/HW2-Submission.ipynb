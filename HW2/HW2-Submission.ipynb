{
 "cells": [
  {
   "cell_type": "markdown",
   "metadata": {},
   "source": [
    "# Bài tập 2\n",
    "\n",
    "Họ và tên - MSSV"
   ]
  },
  {
   "cell_type": "markdown",
   "metadata": {},
   "source": [
    "Nguyễn Đỗ Chí Thảo - 1712159"
   ]
  },
  {
   "cell_type": "markdown",
   "metadata": {},
   "source": [
    "## Câu 1 (1 điểm)"
   ]
  },
  {
   "cell_type": "code",
   "execution_count": 1,
   "metadata": {},
   "outputs": [],
   "source": [
    "import numpy as np"
   ]
  },
  {
   "cell_type": "code",
   "execution_count": 2,
   "metadata": {},
   "outputs": [],
   "source": [
    "N=10; mu=0.5;n_repeats=100000;n_coins=1000;\n",
    "nus = np.random.binomial(N, mu, (n_repeats, n_coins)) / N"
   ]
  },
  {
   "cell_type": "code",
   "execution_count": 3,
   "metadata": {},
   "outputs": [
    {
     "data": {
      "text/plain": [
       "0.037406999999999996"
      ]
     },
     "execution_count": 3,
     "metadata": {},
     "output_type": "execute_result"
    }
   ],
   "source": [
    "c_min=np.min(nus, axis=1)\n",
    "np.mean(c_min)"
   ]
  },
  {
   "cell_type": "markdown",
   "metadata": {},
   "source": [
    "Giá trị trung bình của $\\nu$_min gần với 0.01 nhất."
   ]
  },
  {
   "cell_type": "markdown",
   "metadata": {},
   "source": [
    "Do đó, chọn B"
   ]
  },
  {
   "cell_type": "markdown",
   "metadata": {
    "deletable": false,
    "nbgrader": {
     "cell_type": "markdown",
     "checksum": "2e83d862b3c5fd4fb57d72c50e8115f8",
     "grade": true,
     "grade_id": "c1",
     "locked": false,
     "points": 1,
     "schema_version": 3,
     "solution": true,
     "task": false
    }
   },
   "source": [
    "B"
   ]
  },
  {
   "cell_type": "markdown",
   "metadata": {},
   "source": [
    "## Câu 2 (1 điểm)"
   ]
  },
  {
   "cell_type": "markdown",
   "metadata": {},
   "source": [
    "### Cách 1:"
   ]
  },
  {
   "cell_type": "code",
   "execution_count": 4,
   "metadata": {},
   "outputs": [
    {
     "data": {
      "text/plain": [
       "0.49979100000000004"
      ]
     },
     "execution_count": 4,
     "metadata": {},
     "output_type": "execute_result"
    }
   ],
   "source": [
    "c_1=nus[:, 0]\n",
    "np.mean(c_1)"
   ]
  },
  {
   "cell_type": "code",
   "execution_count": 5,
   "metadata": {},
   "outputs": [
    {
     "data": {
      "text/plain": [
       "0.500927"
      ]
     },
     "execution_count": 5,
     "metadata": {},
     "output_type": "execute_result"
    }
   ],
   "source": [
    "rows=np.arange(nus.shape[0])\n",
    "cols=np.random.choice(np.arange(nus.shape[1]), size=nus.shape[0])\n",
    "c_rand=nus[rows,cols]\n",
    "np.mean(c_rand)"
   ]
  },
  {
   "cell_type": "markdown",
   "metadata": {},
   "source": [
    "Ta thấy rằng giá trị trung bình của $\\nu$_rand và $\\nu$_1 gần với $\\mu$ nhất. Do đó c_1 và c_rand có phân phối của $\\nu$ thỏa bất đẳng thức Hoeffding"
   ]
  },
  {
   "cell_type": "markdown",
   "metadata": {},
   "source": [
    "### Cách 2:"
   ]
  },
  {
   "cell_type": "markdown",
   "metadata": {},
   "source": [
    "Mô tả:\n",
    "\n",
    "Áp dụng BĐT Hoeffding cho từng đồng xu: c_min, c_rand, c_1 với từng giá trị của epsilon (0<epsilon<0.5). Nếu tồn tại một giá trị epsilon mà khiến bất đẳng thức sai (vế trái lớn hơn vế phải) thì đồng xu đó không thỏa bất đẳng đẳng thức Hoeffding"
   ]
  },
  {
   "cell_type": "code",
   "execution_count": 6,
   "metadata": {},
   "outputs": [
    {
     "name": "stdout",
     "output_type": "stream",
     "text": [
      "c_min khong thoa BDT Hoeffding\n"
     ]
    }
   ],
   "source": [
    "import math\n",
    "epsilon=0.01\n",
    "while epsilon<0.5:\n",
    "    err = abs([mu]*n_repeats-c_min)>epsilon\n",
    "    VT = np.mean(err)\n",
    "    VP=2*math.exp(-2*(epsilon**2)*10)\n",
    "    if VT > VP:\n",
    "        print('c_min khong thoa BDT Hoeffding')\n",
    "        break\n",
    "    epsilon+=0.01\n",
    "    \n",
    "epsilon=0.01\n",
    "while epsilon<0.5:\n",
    "    err = abs([mu]*n_repeats-c_rand)>epsilon\n",
    "    VT = np.mean(err)\n",
    "    VP=2*math.exp(-2*(epsilon**2)*10)\n",
    "    if VT > VP:\n",
    "        print('c_rand khong thoa BDT Hoeffding')\n",
    "        break\n",
    "    epsilon+=0.01\n",
    "\n",
    "epsilon=0.01\n",
    "while epsilon<0.5:\n",
    "    err = abs([mu]*n_repeats-c_1)>epsilon\n",
    "    VT = np.mean(err)\n",
    "    VP=2*math.exp(-2*(epsilon**2)*10)\n",
    "    if VT > VP:\n",
    "        print('c1 khong thoa BDT Hoeffding')\n",
    "        break\n",
    "    epsilon+=0.01\n"
   ]
  },
  {
   "cell_type": "markdown",
   "metadata": {},
   "source": [
    "Do đó, chọn D"
   ]
  },
  {
   "cell_type": "markdown",
   "metadata": {
    "deletable": false,
    "nbgrader": {
     "cell_type": "markdown",
     "checksum": "47d4e2bb3e4812ef7b37e032a898cfec",
     "grade": true,
     "grade_id": "c2",
     "locked": false,
     "points": 1,
     "schema_version": 3,
     "solution": true,
     "task": false
    }
   },
   "source": [
    "D"
   ]
  },
  {
   "cell_type": "markdown",
   "metadata": {},
   "source": [
    "## Câu 3 (1 điểm)"
   ]
  },
  {
   "cell_type": "markdown",
   "metadata": {},
   "source": [
    "Có 2 trường hợp xảy ra để cho h != y:\n",
    "\n",
    "-TH1:  h != f và y = f: P1 = $\\mu$.$\\lambda$\n",
    "\n",
    "-TH2:  h = f và y != f: P2 = (1-$\\mu$).(1-$\\lambda$)\n",
    "\n",
    "Áp dụng công thức cộng:\n",
    "\n",
    "P = P1 + P2 = (1-$\\mu$).(1-$\\lambda$)+$\\mu$.$\\lambda$ (điều phải chứng minh)\n",
    "\n",
    "Do đó, chọn E"
   ]
  },
  {
   "cell_type": "markdown",
   "metadata": {
    "deletable": false,
    "nbgrader": {
     "cell_type": "markdown",
     "checksum": "0997a909d9ab1f250c2bfd0645fee970",
     "grade": true,
     "grade_id": "c3",
     "locked": false,
     "points": 1,
     "schema_version": 3,
     "solution": true,
     "task": false
    }
   },
   "source": [
    "E"
   ]
  },
  {
   "cell_type": "markdown",
   "metadata": {},
   "source": [
    "## Câu 4 (1 điểm)"
   ]
  },
  {
   "cell_type": "markdown",
   "metadata": {},
   "source": [
    "Theo như câu 3:\n",
    "\n",
    "P = $\\mu$.$\\lambda$ + (1-$\\mu$).(1-$\\lambda$)\n",
    "\n",
    "P = 1 - $\\lambda$ + $\\mu$.(2$\\lambda$ -1)\n",
    "\n",
    "Để hiệu suất của h độc lập với $\\mu$ thì 2$\\lambda$ -1 = 0 \n",
    "\n",
    "Tương đương, $\\lambda$ = 1/2\n",
    "\n",
    "Do đó, chọn B\n"
   ]
  },
  {
   "cell_type": "markdown",
   "metadata": {
    "deletable": false,
    "nbgrader": {
     "cell_type": "markdown",
     "checksum": "efabab5c4035a6864ac8cb3e0061c6f0",
     "grade": true,
     "grade_id": "c4",
     "locked": false,
     "points": 1,
     "schema_version": 3,
     "solution": true,
     "task": false
    }
   },
   "source": [
    "B"
   ]
  },
  {
   "cell_type": "markdown",
   "metadata": {},
   "source": [
    "## Câu 5 (1 điểm)"
   ]
  },
  {
   "cell_type": "code",
   "execution_count": 7,
   "metadata": {},
   "outputs": [],
   "source": [
    "import numpy as np\n",
    "def generate_target_w():\n",
    "    # Generate two points from a uniform distribution over [-1, 1]x[-1, 1]\n",
    "    p1 = np.random.uniform(-1, 1, 2)\n",
    "    p2 = np.random.uniform(-1, 1, 2)\n",
    "\n",
    "    # Compute the target W from these two points\n",
    "    target_w = np.array([p1[1]*p2[0] - p1[0]*p2[1], p2[1] - p1[1], p1[0] - p2[0]]).reshape((-1, 1))\n",
    "    \n",
    "    return target_w\n",
    "def generate_data(N, target_w):\n",
    "   \n",
    "    bad_data = True # `bad_data = True` means: data contain points on the target line \n",
    "                    # (this rarely happens, but just to be careful)\n",
    "                    # -> y's of these points = 0 (with np.sign); \n",
    "                    #    we don't want this (y's of data must be -1 or 1)\n",
    "                    # -> re-generate data until `bad_data = False`\n",
    "    \n",
    "    while bad_data == True:\n",
    "        X = np.random.uniform(-1, 1, (N, 2))\n",
    "        X = np.hstack((np.ones((N, 1)), X)) # Add 'ones' column\n",
    "        Y = np.sign(np.dot(X, target_w))\n",
    "        if (0 not in Y): # Good data\n",
    "            bad_data = False\n",
    "    \n",
    "    return X, Y\n",
    "def LinearRegression(X, ys):\n",
    "    iteration = 0\n",
    "    X_dagger = np.dot(np.linalg.inv(np.dot(X.T, X)), X.T)\n",
    "    w = np.dot(X_dagger, ys)\n",
    "    return w"
   ]
  },
  {
   "cell_type": "code",
   "execution_count": 8,
   "metadata": {},
   "outputs": [],
   "source": [
    "#Câu 5 + 6\n",
    "experiment=1000\n",
    "w_arg= np.zeros((3, 1))\n",
    "err_in=0\n",
    "err_out=0\n",
    "for i in range(experiment):\n",
    "    #Câu 5:\n",
    "    # Khoi tao du lieu\n",
    "    target_w=generate_target_w()\n",
    "    N=100\n",
    "    X,ys=generate_data(N, target_w)\n",
    "    #Dua du lieu vao mo hinh\n",
    "    w=LinearRegression(X, ys)\n",
    "    #Tinh do loi\n",
    "    predictions = np.sign(np.dot(X, w))\n",
    "    error=np.mean(ys != predictions)\n",
    "    err_in+=error/experiment\n",
    "    \n",
    "    #Câu 6:\n",
    "    # Khoi tao du lieu\n",
    "    N=1000\n",
    "    X1,ys1=generate_data(N, target_w)\n",
    "    #Tinh do loi\n",
    "    predictions = np.sign(np.dot(X1, w))\n",
    "    error=np.mean(ys1 != predictions)\n",
    "    err_out+=error/experiment"
   ]
  },
  {
   "cell_type": "code",
   "execution_count": 9,
   "metadata": {},
   "outputs": [
    {
     "data": {
      "text/plain": [
       "0.03841999999999995"
      ]
     },
     "execution_count": 9,
     "metadata": {},
     "output_type": "execute_result"
    }
   ],
   "source": [
    "err_in"
   ]
  },
  {
   "cell_type": "markdown",
   "metadata": {},
   "source": [
    "Độ lỗi E_in gần với 0.01 nhất. Do đó, chọn C"
   ]
  },
  {
   "cell_type": "markdown",
   "metadata": {
    "deletable": false,
    "nbgrader": {
     "cell_type": "markdown",
     "checksum": "0b484b8390bec96142e8a1213ee8cd2c",
     "grade": true,
     "grade_id": "c5",
     "locked": false,
     "points": 1,
     "schema_version": 3,
     "solution": true,
     "task": false
    }
   },
   "source": [
    "C"
   ]
  },
  {
   "cell_type": "markdown",
   "metadata": {},
   "source": [
    "## Câu 6 (1 điểm)"
   ]
  },
  {
   "cell_type": "code",
   "execution_count": 10,
   "metadata": {},
   "outputs": [
    {
     "data": {
      "text/plain": [
       "0.04663700000000007"
      ]
     },
     "execution_count": 10,
     "metadata": {},
     "output_type": "execute_result"
    }
   ],
   "source": [
    "err_out"
   ]
  },
  {
   "cell_type": "markdown",
   "metadata": {},
   "source": [
    "Độ lỗi E_out gần với 0.01 nhất. Do đó chọn C"
   ]
  },
  {
   "cell_type": "markdown",
   "metadata": {
    "deletable": false,
    "nbgrader": {
     "cell_type": "markdown",
     "checksum": "26f542221236fb24d0ddbee584eed7d0",
     "grade": true,
     "grade_id": "c6",
     "locked": false,
     "points": 1,
     "schema_version": 3,
     "solution": true,
     "task": false
    }
   },
   "source": [
    "C"
   ]
  },
  {
   "cell_type": "markdown",
   "metadata": {},
   "source": [
    "## Câu 7 (1 điểm)"
   ]
  },
  {
   "cell_type": "code",
   "execution_count": 11,
   "metadata": {},
   "outputs": [],
   "source": [
    "def PLA(X, ys):\n",
    "    iteration = 0\n",
    "    w = LinearRegression(X, ys)\n",
    "    while True:\n",
    "        predictions = np.sign(np.dot(X, w))\n",
    "        error=ys != predictions\n",
    "        mean_err=np.mean(error)\n",
    "        if mean_err==0:\n",
    "            break\n",
    "        rand_err_idx= np.random.choice(np.flatnonzero(error),size=1)\n",
    "        w=w+X[rand_err_idx].reshape((-1, 1)).dot(ys[rand_err_idx]).reshape((-1, 1))\n",
    "        iteration+=1\n",
    "    return iteration, w"
   ]
  },
  {
   "cell_type": "code",
   "execution_count": 12,
   "metadata": {},
   "outputs": [],
   "source": [
    "experiment=1000\n",
    "avg_iteration=0\n",
    "N=10\n",
    "for i in range(experiment):\n",
    "    # Khoi tao du lieu\n",
    "    target_w=generate_target_w()\n",
    "    X,ys=generate_data(N, target_w)\n",
    "    #Dua du lieu vao mo hinh\n",
    "    iteration,w=PLA(X, ys)\n",
    "    avg_iteration+=iteration/experiment"
   ]
  },
  {
   "cell_type": "code",
   "execution_count": 13,
   "metadata": {},
   "outputs": [
    {
     "data": {
      "text/plain": [
       "4.07099999999999"
      ]
     },
     "execution_count": 13,
     "metadata": {},
     "output_type": "execute_result"
    }
   ],
   "source": [
    "avg_iteration"
   ]
  },
  {
   "cell_type": "markdown",
   "metadata": {},
   "source": [
    "Số vòng lặp trung bình gần với 1 nhất. Do đó chọn A."
   ]
  },
  {
   "cell_type": "markdown",
   "metadata": {
    "deletable": false,
    "nbgrader": {
     "cell_type": "markdown",
     "checksum": "322a244b0fae3a20ec568a5099aaaec1",
     "grade": true,
     "grade_id": "c7",
     "locked": false,
     "points": 1,
     "schema_version": 3,
     "solution": true,
     "task": false
    }
   },
   "source": [
    "A"
   ]
  },
  {
   "cell_type": "markdown",
   "metadata": {},
   "source": [
    "## Câu 8 (1 điểm)"
   ]
  },
  {
   "cell_type": "code",
   "execution_count": 14,
   "metadata": {},
   "outputs": [],
   "source": [
    "experiment=1000\n",
    "w_arg= np.zeros((3, 1))\n",
    "err_in=0\n",
    "N=1000\n",
    "for i in range(experiment):\n",
    "    #Câu 5:\n",
    "    # Khoi tao du lieu\n",
    "    X = np.random.uniform(-1, 1, (N, 2))\n",
    "    X = np.hstack((np.ones((N, 1)), X))\n",
    "    x1=X[:,1]\n",
    "    x2=X[:,2]\n",
    "    y = np.sign(np.array([[x1[i]**2+x2[i]**2-0.6] for i in range(N)]))\n",
    "    rows=np.random.choice(np.arange(N), size=int(0.1*N), replace=False)\n",
    "    y[rows,0]=y[rows,0]*-1\n",
    "    #Dua du lieu vao mo hinh\n",
    "    w=LinearRegression(X, y)\n",
    "    #Tinh do loi\n",
    "    predictions = np.sign(np.dot(X, w))\n",
    "    error=np.mean(y != predictions)\n",
    "    err_in+=error/experiment"
   ]
  },
  {
   "cell_type": "code",
   "execution_count": 15,
   "metadata": {},
   "outputs": [
    {
     "data": {
      "text/plain": [
       "0.5028430000000003"
      ]
     },
     "execution_count": 15,
     "metadata": {},
     "output_type": "execute_result"
    }
   ],
   "source": [
    "err_in"
   ]
  },
  {
   "cell_type": "markdown",
   "metadata": {},
   "source": [
    "Độ lỗi E_in gần với 0.5 nhất. Do đó chọn D."
   ]
  },
  {
   "cell_type": "markdown",
   "metadata": {
    "deletable": false,
    "nbgrader": {
     "cell_type": "markdown",
     "checksum": "d81773f072cd15e4a27b6cd240a5d990",
     "grade": true,
     "grade_id": "c8",
     "locked": false,
     "points": 1,
     "schema_version": 3,
     "solution": true,
     "task": false
    }
   },
   "source": [
    "D"
   ]
  },
  {
   "cell_type": "markdown",
   "metadata": {},
   "source": [
    "## Câu 9 (1 điểm)"
   ]
  },
  {
   "cell_type": "code",
   "execution_count": 16,
   "metadata": {},
   "outputs": [],
   "source": [
    "#Khoi tao du lieu\n",
    "import numpy as np\n",
    "N=1000\n",
    "experiment=1000\n",
    "error_a=error_b=error_c=error_d=error_e=0\n",
    "error_in_a=error_in_b=error_in_c=error_in_d=error_in_e=0\n",
    "error=0\n",
    "error_in=0\n",
    "error_out=0\n",
    "#Khoi tao X\n",
    "for i in range(experiment):\n",
    "    \n",
    "    #Khoi tao X\n",
    "    X = np.random.uniform(-1, 1, (N, 2))\n",
    "    X = np.hstack((np.ones((N, 1)), X))\n",
    "    x0=X[:,0]\n",
    "    x1=X[:,1]\n",
    "    x2=X[:,2]\n",
    "    #Khoi tao y\n",
    "    y = np.sign(np.array([[x1[i]**2+x2[i]**2-0.6] for i in range(N)]))\n",
    "    rows=np.random.choice(np.arange(N), size=int(0.1*N), replace=False)\n",
    "    #Tao 0.1*N y nhieu\n",
    "    y[rows,0]=y[rows,0]*-1\n",
    "    #transform\n",
    "    z = np.array([[x0[i],x1[i],x2[i],x1[i]*x2[i],x1[i]*x1[i],x2[i]*x2[i]] for i in range(N)])\n",
    "    #Dua du lieu vao mo hinh\n",
    "    w=LinearRegression(z, y)\n",
    "    predictions = np.sign(np.dot(z, w))\n",
    "    #error_in+=np.mean(y != predictions)/experiment\n",
    "    \n",
    "    #Cau 9\n",
    "    #Tinh do loi giua w va g\n",
    "    #a\n",
    "    y_a=np.sign(np.array([[-1-0.05*x1[i]+0.08*x2[i]+0.13*x1[i]*x2[i]+1.5*x1[i]**2+1.5*x2[i]**2]for i in range(N)]))\n",
    "    error_a+=np.mean(y_a != predictions)/experiment\n",
    "    #error_in_a+=np.mean(y_a != y)/experiment\n",
    "    #b\n",
    "    y_b=np.sign(np.array([[-1-0.05*x1[i]+0.08*x2[i]+0.13*x1[i]*x2[i]+1.5*x1[i]**2+15*x2[i]**2]for i in range(N)]))\n",
    "    error_b+=np.mean(y_b != predictions)/experiment\n",
    "    #error_in_b+=np.mean(y_b != y)/experiment\n",
    "    #c\n",
    "    y_c=np.sign(np.array([[-1-0.05*x1[i]+0.08*x2[i]+0.13*x1[i]*x2[i]+15*x1[i]**2+1.5*x2[i]**2]for i in range(N)]))\n",
    "    error_c+=np.mean(y_c != predictions)/experiment\n",
    "    #error_in_c+=np.mean(y_c != y)/experiment\n",
    "    #d\n",
    "    y_d=np.sign(np.array([[-1-1.5*x1[i]+0.08*x2[i]+0.13*x1[i]*x2[i]+0.05*x1[i]**2+0.05*x2[i]**2]for i in range(N)]))\n",
    "    error_d+=np.mean(y_d != predictions)/experiment\n",
    "    #error_in_d+=np.mean(y_d != y)/experiment\n",
    "    #e\n",
    "    y_e=np.sign(np.array([[-1-0.05*x1[i]+0.08*x2[i]+1.5*x1[i]*x2[i]+0.15*x1[i]**2+0.15*x2[i]**2]for i in range(N)]))\n",
    "    error_e+=np.mean(y_e != predictions)/experiment\n",
    "    #error_in_e+=np.mean(y_e != y)/experiment\n",
    "    \n",
    "    #Cau 10\n",
    "    #Test tren out sapmle\n",
    "    X_test = np.random.uniform(-1, 1, (N, 2))\n",
    "    X_test = np.hstack((np.ones((N, 1)), X_test))\n",
    "    x0_test=X[:,0]\n",
    "    x1_test=X[:,1]\n",
    "    x2_test=X[:,2]\n",
    "    #Khoi tao y\n",
    "    y_test = np.sign(np.array([[x1_test[i]**2+x2_test[i]**2-0.6] for i in range(N)]))\n",
    "    rows_test=np.random.choice(np.arange(N), size=int(0.1*N), replace=False)\n",
    "    #Tao 0.1*N y nhieu\n",
    "    y_test[rows_test,0]=y_test[rows_test,0]*-1\n",
    "    #transform\n",
    "    z_test = np.array([[x0_test[i],x1_test[i],x2_test[i],x1_test[i]*x2_test[i],x1_test[i]**2,x2_test[i]**2] for i in range(N)])\n",
    "    #Danh gia\n",
    "    predictions_test = np.sign(np.dot(z_test, w))\n",
    "    error_out+=np.mean(y_test != predictions_test)/experiment"
   ]
  },
  {
   "cell_type": "code",
   "execution_count": 17,
   "metadata": {},
   "outputs": [
    {
     "name": "stdout",
     "output_type": "stream",
     "text": [
      "0.037692999999999977\n",
      "0.3374149999999999\n",
      "0.33801699999999996\n",
      "0.3670009999999997\n",
      "0.43836799999999987\n"
     ]
    }
   ],
   "source": [
    "print(error_a)\n",
    "print(error_b)\n",
    "print(error_c)\n",
    "print(error_d)\n",
    "print(error_e)"
   ]
  },
  {
   "cell_type": "markdown",
   "metadata": {},
   "source": [
    "Ta thấy rằng độ sai lệch giữa kết quả của g(x1,x2) trong trường hợp [a] so với kết quả khi áp dụng Linear Regression là nhỏ nhất. Do đó chọn A"
   ]
  },
  {
   "cell_type": "markdown",
   "metadata": {
    "deletable": false,
    "nbgrader": {
     "cell_type": "markdown",
     "checksum": "e814a2db0b8a53e4fddfee4bcbf405fc",
     "grade": true,
     "grade_id": "c9",
     "locked": false,
     "points": 1,
     "schema_version": 3,
     "solution": true,
     "task": false
    }
   },
   "source": [
    "A"
   ]
  },
  {
   "cell_type": "markdown",
   "metadata": {},
   "source": [
    "## Câu 10 (1 điểm)"
   ]
  },
  {
   "cell_type": "code",
   "execution_count": 18,
   "metadata": {
    "scrolled": true
   },
   "outputs": [
    {
     "name": "stdout",
     "output_type": "stream",
     "text": [
      "0.1250799999999998\n"
     ]
    }
   ],
   "source": [
    "print(error_out)"
   ]
  },
  {
   "cell_type": "markdown",
   "metadata": {},
   "source": [
    "Ta thấy rằng độ lỗi E_out gần với 0.1 nhất. Do đó chọn B."
   ]
  },
  {
   "cell_type": "markdown",
   "metadata": {
    "deletable": false,
    "nbgrader": {
     "cell_type": "markdown",
     "checksum": "41cbf5c6d2b94eeae0a712be2181fef6",
     "grade": true,
     "grade_id": "c10",
     "locked": false,
     "points": 1,
     "schema_version": 3,
     "solution": true,
     "task": false
    }
   },
   "source": [
    "B"
   ]
  }
 ],
 "metadata": {
  "kernelspec": {
   "display_name": "Python 3",
   "language": "python",
   "name": "python3"
  },
  "language_info": {
   "codemirror_mode": {
    "name": "ipython",
    "version": 3
   },
   "file_extension": ".py",
   "mimetype": "text/x-python",
   "name": "python",
   "nbconvert_exporter": "python",
   "pygments_lexer": "ipython3",
   "version": "3.7.3"
  },
  "toc": {
   "base_numbering": 1,
   "nav_menu": {},
   "number_sections": true,
   "sideBar": true,
   "skip_h1_title": false,
   "title_cell": "Table of Contents",
   "title_sidebar": "Contents",
   "toc_cell": false,
   "toc_position": {},
   "toc_section_display": true,
   "toc_window_display": false
  },
  "varInspector": {
   "cols": {
    "lenName": 16,
    "lenType": 16,
    "lenVar": 40
   },
   "kernels_config": {
    "python": {
     "delete_cmd_postfix": "",
     "delete_cmd_prefix": "del ",
     "library": "var_list.py",
     "varRefreshCmd": "print(var_dic_list())"
    },
    "r": {
     "delete_cmd_postfix": ") ",
     "delete_cmd_prefix": "rm(",
     "library": "var_list.r",
     "varRefreshCmd": "cat(var_dic_list()) "
    }
   },
   "types_to_exclude": [
    "module",
    "function",
    "builtin_function_or_method",
    "instance",
    "_Feature"
   ],
   "window_display": false
  }
 },
 "nbformat": 4,
 "nbformat_minor": 4
}
